{
 "cells": [
  {
   "cell_type": "markdown",
   "id": "19f5976f",
   "metadata": {},
   "source": [
    "# Import Libraries"
   ]
  },
  {
   "cell_type": "code",
   "execution_count": 1,
   "id": "c9f6b13e",
   "metadata": {},
   "outputs": [],
   "source": [
    "import pandas as pd\n",
    "import numpy as np\n",
    "import seaborn as sns\n",
    "import matplotlib.pyplot as plt\n",
    "\n",
    "from sklearn.preprocessing import StandardScaler\n",
    "from sklearn.utils import resample\n",
    "from sklearn.model_selection import train_test_split, RandomizedSearchCV\n",
    "from sklearn.ensemble import RandomForestClassifier\n",
    "from sklearn.tree import DecisionTreeClassifier\n",
    "from sklearn.neighbors import KNeighborsClassifier\n",
    "from sklearn.linear_model import LogisticRegression  \n",
    "from xgboost import XGBClassifier\n",
    "\n",
    "from sklearn import model_selection\n",
    "from sklearn.metrics import classification_report, roc_auc_score\n",
    "\n",
    "import warnings\n",
    "warnings.filterwarnings('ignore')"
   ]
  },
  {
   "cell_type": "markdown",
   "id": "2c6f30c4",
   "metadata": {},
   "source": [
    "# Import Dataset"
   ]
  },
  {
   "cell_type": "code",
   "execution_count": 2,
   "id": "3d8a085f",
   "metadata": {},
   "outputs": [],
   "source": [
    "df = pd.read_csv(r'C:\\Users\\Difta Alzena\\Downloads\\loan_data_2007_2014.csv', low_memory=False)"
   ]
  },
  {
   "cell_type": "markdown",
   "id": "00488373",
   "metadata": {},
   "source": [
    "# Data Understanding"
   ]
  },
  {
   "cell_type": "code",
   "execution_count": 3,
   "id": "75032d54",
   "metadata": {},
   "outputs": [
    {
     "data": {
      "text/html": [
       "<div>\n",
       "<style scoped>\n",
       "    .dataframe tbody tr th:only-of-type {\n",
       "        vertical-align: middle;\n",
       "    }\n",
       "\n",
       "    .dataframe tbody tr th {\n",
       "        vertical-align: top;\n",
       "    }\n",
       "\n",
       "    .dataframe thead th {\n",
       "        text-align: right;\n",
       "    }\n",
       "</style>\n",
       "<table border=\"1\" class=\"dataframe\">\n",
       "  <thead>\n",
       "    <tr style=\"text-align: right;\">\n",
       "      <th></th>\n",
       "      <th>Unnamed: 0</th>\n",
       "      <th>id</th>\n",
       "      <th>member_id</th>\n",
       "      <th>loan_amnt</th>\n",
       "      <th>funded_amnt</th>\n",
       "      <th>funded_amnt_inv</th>\n",
       "      <th>term</th>\n",
       "      <th>int_rate</th>\n",
       "      <th>installment</th>\n",
       "      <th>grade</th>\n",
       "      <th>...</th>\n",
       "      <th>total_bal_il</th>\n",
       "      <th>il_util</th>\n",
       "      <th>open_rv_12m</th>\n",
       "      <th>open_rv_24m</th>\n",
       "      <th>max_bal_bc</th>\n",
       "      <th>all_util</th>\n",
       "      <th>total_rev_hi_lim</th>\n",
       "      <th>inq_fi</th>\n",
       "      <th>total_cu_tl</th>\n",
       "      <th>inq_last_12m</th>\n",
       "    </tr>\n",
       "  </thead>\n",
       "  <tbody>\n",
       "    <tr>\n",
       "      <th>0</th>\n",
       "      <td>0</td>\n",
       "      <td>1077501</td>\n",
       "      <td>1296599</td>\n",
       "      <td>5000</td>\n",
       "      <td>5000</td>\n",
       "      <td>4975.0</td>\n",
       "      <td>36 months</td>\n",
       "      <td>10.65</td>\n",
       "      <td>162.87</td>\n",
       "      <td>B</td>\n",
       "      <td>...</td>\n",
       "      <td>NaN</td>\n",
       "      <td>NaN</td>\n",
       "      <td>NaN</td>\n",
       "      <td>NaN</td>\n",
       "      <td>NaN</td>\n",
       "      <td>NaN</td>\n",
       "      <td>NaN</td>\n",
       "      <td>NaN</td>\n",
       "      <td>NaN</td>\n",
       "      <td>NaN</td>\n",
       "    </tr>\n",
       "    <tr>\n",
       "      <th>1</th>\n",
       "      <td>1</td>\n",
       "      <td>1077430</td>\n",
       "      <td>1314167</td>\n",
       "      <td>2500</td>\n",
       "      <td>2500</td>\n",
       "      <td>2500.0</td>\n",
       "      <td>60 months</td>\n",
       "      <td>15.27</td>\n",
       "      <td>59.83</td>\n",
       "      <td>C</td>\n",
       "      <td>...</td>\n",
       "      <td>NaN</td>\n",
       "      <td>NaN</td>\n",
       "      <td>NaN</td>\n",
       "      <td>NaN</td>\n",
       "      <td>NaN</td>\n",
       "      <td>NaN</td>\n",
       "      <td>NaN</td>\n",
       "      <td>NaN</td>\n",
       "      <td>NaN</td>\n",
       "      <td>NaN</td>\n",
       "    </tr>\n",
       "    <tr>\n",
       "      <th>2</th>\n",
       "      <td>2</td>\n",
       "      <td>1077175</td>\n",
       "      <td>1313524</td>\n",
       "      <td>2400</td>\n",
       "      <td>2400</td>\n",
       "      <td>2400.0</td>\n",
       "      <td>36 months</td>\n",
       "      <td>15.96</td>\n",
       "      <td>84.33</td>\n",
       "      <td>C</td>\n",
       "      <td>...</td>\n",
       "      <td>NaN</td>\n",
       "      <td>NaN</td>\n",
       "      <td>NaN</td>\n",
       "      <td>NaN</td>\n",
       "      <td>NaN</td>\n",
       "      <td>NaN</td>\n",
       "      <td>NaN</td>\n",
       "      <td>NaN</td>\n",
       "      <td>NaN</td>\n",
       "      <td>NaN</td>\n",
       "    </tr>\n",
       "    <tr>\n",
       "      <th>3</th>\n",
       "      <td>3</td>\n",
       "      <td>1076863</td>\n",
       "      <td>1277178</td>\n",
       "      <td>10000</td>\n",
       "      <td>10000</td>\n",
       "      <td>10000.0</td>\n",
       "      <td>36 months</td>\n",
       "      <td>13.49</td>\n",
       "      <td>339.31</td>\n",
       "      <td>C</td>\n",
       "      <td>...</td>\n",
       "      <td>NaN</td>\n",
       "      <td>NaN</td>\n",
       "      <td>NaN</td>\n",
       "      <td>NaN</td>\n",
       "      <td>NaN</td>\n",
       "      <td>NaN</td>\n",
       "      <td>NaN</td>\n",
       "      <td>NaN</td>\n",
       "      <td>NaN</td>\n",
       "      <td>NaN</td>\n",
       "    </tr>\n",
       "    <tr>\n",
       "      <th>4</th>\n",
       "      <td>4</td>\n",
       "      <td>1075358</td>\n",
       "      <td>1311748</td>\n",
       "      <td>3000</td>\n",
       "      <td>3000</td>\n",
       "      <td>3000.0</td>\n",
       "      <td>60 months</td>\n",
       "      <td>12.69</td>\n",
       "      <td>67.79</td>\n",
       "      <td>B</td>\n",
       "      <td>...</td>\n",
       "      <td>NaN</td>\n",
       "      <td>NaN</td>\n",
       "      <td>NaN</td>\n",
       "      <td>NaN</td>\n",
       "      <td>NaN</td>\n",
       "      <td>NaN</td>\n",
       "      <td>NaN</td>\n",
       "      <td>NaN</td>\n",
       "      <td>NaN</td>\n",
       "      <td>NaN</td>\n",
       "    </tr>\n",
       "  </tbody>\n",
       "</table>\n",
       "<p>5 rows × 75 columns</p>\n",
       "</div>"
      ],
      "text/plain": [
       "   Unnamed: 0       id  member_id  loan_amnt  funded_amnt  funded_amnt_inv  \\\n",
       "0           0  1077501    1296599       5000         5000           4975.0   \n",
       "1           1  1077430    1314167       2500         2500           2500.0   \n",
       "2           2  1077175    1313524       2400         2400           2400.0   \n",
       "3           3  1076863    1277178      10000        10000          10000.0   \n",
       "4           4  1075358    1311748       3000         3000           3000.0   \n",
       "\n",
       "         term  int_rate  installment grade  ... total_bal_il il_util  \\\n",
       "0   36 months     10.65       162.87     B  ...          NaN     NaN   \n",
       "1   60 months     15.27        59.83     C  ...          NaN     NaN   \n",
       "2   36 months     15.96        84.33     C  ...          NaN     NaN   \n",
       "3   36 months     13.49       339.31     C  ...          NaN     NaN   \n",
       "4   60 months     12.69        67.79     B  ...          NaN     NaN   \n",
       "\n",
       "  open_rv_12m open_rv_24m  max_bal_bc all_util total_rev_hi_lim inq_fi  \\\n",
       "0         NaN         NaN         NaN      NaN              NaN    NaN   \n",
       "1         NaN         NaN         NaN      NaN              NaN    NaN   \n",
       "2         NaN         NaN         NaN      NaN              NaN    NaN   \n",
       "3         NaN         NaN         NaN      NaN              NaN    NaN   \n",
       "4         NaN         NaN         NaN      NaN              NaN    NaN   \n",
       "\n",
       "  total_cu_tl inq_last_12m  \n",
       "0         NaN          NaN  \n",
       "1         NaN          NaN  \n",
       "2         NaN          NaN  \n",
       "3         NaN          NaN  \n",
       "4         NaN          NaN  \n",
       "\n",
       "[5 rows x 75 columns]"
      ]
     },
     "execution_count": 3,
     "metadata": {},
     "output_type": "execute_result"
    }
   ],
   "source": [
    "df.head()"
   ]
  },
  {
   "cell_type": "code",
   "execution_count": 4,
   "id": "14e2a3d8",
   "metadata": {},
   "outputs": [
    {
     "data": {
      "text/plain": [
       "(466285, 75)"
      ]
     },
     "execution_count": 4,
     "metadata": {},
     "output_type": "execute_result"
    }
   ],
   "source": [
    "df.shape"
   ]
  },
  {
   "cell_type": "code",
   "execution_count": 5,
   "id": "c78d0fba",
   "metadata": {},
   "outputs": [
    {
     "name": "stdout",
     "output_type": "stream",
     "text": [
      "<class 'pandas.core.frame.DataFrame'>\n",
      "RangeIndex: 466285 entries, 0 to 466284\n",
      "Data columns (total 75 columns):\n",
      " #   Column                       Non-Null Count   Dtype  \n",
      "---  ------                       --------------   -----  \n",
      " 0   Unnamed: 0                   466285 non-null  int64  \n",
      " 1   id                           466285 non-null  int64  \n",
      " 2   member_id                    466285 non-null  int64  \n",
      " 3   loan_amnt                    466285 non-null  int64  \n",
      " 4   funded_amnt                  466285 non-null  int64  \n",
      " 5   funded_amnt_inv              466285 non-null  float64\n",
      " 6   term                         466285 non-null  object \n",
      " 7   int_rate                     466285 non-null  float64\n",
      " 8   installment                  466285 non-null  float64\n",
      " 9   grade                        466285 non-null  object \n",
      " 10  sub_grade                    466285 non-null  object \n",
      " 11  emp_title                    438697 non-null  object \n",
      " 12  emp_length                   445277 non-null  object \n",
      " 13  home_ownership               466285 non-null  object \n",
      " 14  annual_inc                   466281 non-null  float64\n",
      " 15  verification_status          466285 non-null  object \n",
      " 16  issue_d                      466285 non-null  object \n",
      " 17  loan_status                  466285 non-null  object \n",
      " 18  pymnt_plan                   466285 non-null  object \n",
      " 19  url                          466285 non-null  object \n",
      " 20  desc                         125983 non-null  object \n",
      " 21  purpose                      466285 non-null  object \n",
      " 22  title                        466265 non-null  object \n",
      " 23  zip_code                     466285 non-null  object \n",
      " 24  addr_state                   466285 non-null  object \n",
      " 25  dti                          466285 non-null  float64\n",
      " 26  delinq_2yrs                  466256 non-null  float64\n",
      " 27  earliest_cr_line             466256 non-null  object \n",
      " 28  inq_last_6mths               466256 non-null  float64\n",
      " 29  mths_since_last_delinq       215934 non-null  float64\n",
      " 30  mths_since_last_record       62638 non-null   float64\n",
      " 31  open_acc                     466256 non-null  float64\n",
      " 32  pub_rec                      466256 non-null  float64\n",
      " 33  revol_bal                    466285 non-null  int64  \n",
      " 34  revol_util                   465945 non-null  float64\n",
      " 35  total_acc                    466256 non-null  float64\n",
      " 36  initial_list_status          466285 non-null  object \n",
      " 37  out_prncp                    466285 non-null  float64\n",
      " 38  out_prncp_inv                466285 non-null  float64\n",
      " 39  total_pymnt                  466285 non-null  float64\n",
      " 40  total_pymnt_inv              466285 non-null  float64\n",
      " 41  total_rec_prncp              466285 non-null  float64\n",
      " 42  total_rec_int                466285 non-null  float64\n",
      " 43  total_rec_late_fee           466285 non-null  float64\n",
      " 44  recoveries                   466285 non-null  float64\n",
      " 45  collection_recovery_fee      466285 non-null  float64\n",
      " 46  last_pymnt_d                 465909 non-null  object \n",
      " 47  last_pymnt_amnt              466285 non-null  float64\n",
      " 48  next_pymnt_d                 239071 non-null  object \n",
      " 49  last_credit_pull_d           466243 non-null  object \n",
      " 50  collections_12_mths_ex_med   466140 non-null  float64\n",
      " 51  mths_since_last_major_derog  98974 non-null   float64\n",
      " 52  policy_code                  466285 non-null  int64  \n",
      " 53  application_type             466285 non-null  object \n",
      " 54  annual_inc_joint             0 non-null       float64\n",
      " 55  dti_joint                    0 non-null       float64\n",
      " 56  verification_status_joint    0 non-null       float64\n",
      " 57  acc_now_delinq               466256 non-null  float64\n",
      " 58  tot_coll_amt                 396009 non-null  float64\n",
      " 59  tot_cur_bal                  396009 non-null  float64\n",
      " 60  open_acc_6m                  0 non-null       float64\n",
      " 61  open_il_6m                   0 non-null       float64\n",
      " 62  open_il_12m                  0 non-null       float64\n",
      " 63  open_il_24m                  0 non-null       float64\n",
      " 64  mths_since_rcnt_il           0 non-null       float64\n",
      " 65  total_bal_il                 0 non-null       float64\n",
      " 66  il_util                      0 non-null       float64\n",
      " 67  open_rv_12m                  0 non-null       float64\n",
      " 68  open_rv_24m                  0 non-null       float64\n",
      " 69  max_bal_bc                   0 non-null       float64\n",
      " 70  all_util                     0 non-null       float64\n",
      " 71  total_rev_hi_lim             396009 non-null  float64\n",
      " 72  inq_fi                       0 non-null       float64\n",
      " 73  total_cu_tl                  0 non-null       float64\n",
      " 74  inq_last_12m                 0 non-null       float64\n",
      "dtypes: float64(46), int64(7), object(22)\n",
      "memory usage: 266.8+ MB\n"
     ]
    }
   ],
   "source": [
    "df.info()"
   ]
  },
  {
   "cell_type": "markdown",
   "id": "dcaeb9a0",
   "metadata": {},
   "source": [
    "# Penentuan Variabel Target"
   ]
  },
  {
   "cell_type": "markdown",
   "id": "bd392b10",
   "metadata": {},
   "source": [
    "Target prediksi akan dibentuk berdasarkan kolom loan_status, namun perlu dilakukan proses transformasi terlebih dahulu."
   ]
  },
  {
   "cell_type": "code",
   "execution_count": 6,
   "id": "343206ae",
   "metadata": {},
   "outputs": [
    {
     "data": {
      "text/plain": [
       "Current                                                224226\n",
       "Fully Paid                                             184739\n",
       "Charged Off                                             42475\n",
       "Late (31-120 days)                                       6900\n",
       "In Grace Period                                          3146\n",
       "Does not meet the credit policy. Status:Fully Paid       1988\n",
       "Late (16-30 days)                                        1218\n",
       "Default                                                   832\n",
       "Does not meet the credit policy. Status:Charged Off       761\n",
       "Name: loan_status, dtype: int64"
      ]
     },
     "execution_count": 6,
     "metadata": {},
     "output_type": "execute_result"
    }
   ],
   "source": [
    "df.loan_status.value_counts()"
   ]
  },
  {
   "cell_type": "markdown",
   "id": "9eb6dbe4",
   "metadata": {},
   "source": [
    "Beberapa status seperti ‘Current’ dan ‘In Grace Period’ menunjukkan pinjaman yang masih berjalan atau dalam masa tenggang, sehingga belum bisa dipastikan apakah tergolong pinjaman baik atau buruk. Oleh karena itu, entri dengan status tersebut akan dikeluarkan dari data."
   ]
  },
  {
   "cell_type": "code",
   "execution_count": 7,
   "id": "1746923f",
   "metadata": {},
   "outputs": [],
   "source": [
    "# Menghapus baris dengan status yang belum bisa dipastikan\n",
    "to_drop1 = ['Current', 'In Grace Period']\n",
    "df = df[~df.loan_status.isin(to_drop1)]"
   ]
  },
  {
   "cell_type": "markdown",
   "id": "55ab5540",
   "metadata": {},
   "source": [
    "Untuk keperluan klasifikasi, status pinjaman dikelompokkan menjadi dua kategori:\n",
    "- Pinjaman berisiko rendah (good loan): 'Fully Paid', 'Does not meet the credit policy. Status:Fully Paid'\n",
    "- Pinjaman berisiko tinggi (bad loan): semua status lainnya (misalnya Charged Off, Default, Late, dll.)\n",
    "\n",
    "Label baru akan dibuat dalam bentuk numerik:\n",
    "- 1 untuk good loan\n",
    "- 0 untuk bad loan"
   ]
  },
  {
   "cell_type": "code",
   "execution_count": 8,
   "id": "45fa7f6f",
   "metadata": {},
   "outputs": [],
   "source": [
    "# Mendefinisikan kategori pinjaman aman\n",
    "low_risk = ['Fully Paid', 'Does not meet the credit policy. Status:Fully Paid']\n",
    "\n",
    "# Membuat kolom target biner\n",
    "df['target'] = np.where(df['loan_status'].isin(low_risk), 1, 0)"
   ]
  },
  {
   "cell_type": "markdown",
   "id": "b18466c3",
   "metadata": {},
   "source": [
    "Ukuran data setelah filter:"
   ]
  },
  {
   "cell_type": "code",
   "execution_count": 9,
   "id": "7dc9b7f1",
   "metadata": {},
   "outputs": [
    {
     "data": {
      "text/plain": [
       "(238913, 76)"
      ]
     },
     "execution_count": 9,
     "metadata": {},
     "output_type": "execute_result"
    }
   ],
   "source": [
    "df.shape"
   ]
  },
  {
   "cell_type": "markdown",
   "id": "d787b6c1",
   "metadata": {},
   "source": [
    "Distribusi label target:"
   ]
  },
  {
   "cell_type": "code",
   "execution_count": 10,
   "id": "74836278",
   "metadata": {},
   "outputs": [
    {
     "data": {
      "text/plain": [
       "1    186727\n",
       "0     52186\n",
       "Name: target, dtype: int64"
      ]
     },
     "execution_count": 10,
     "metadata": {},
     "output_type": "execute_result"
    }
   ],
   "source": [
    "df['target'].value_counts()"
   ]
  },
  {
   "cell_type": "markdown",
   "id": "19b60c4d",
   "metadata": {},
   "source": [
    "Distribusi dalam bentuk proporsi:"
   ]
  },
  {
   "cell_type": "code",
   "execution_count": 11,
   "id": "229eb44c",
   "metadata": {},
   "outputs": [
    {
     "data": {
      "text/plain": [
       "1    0.781569\n",
       "0    0.218431\n",
       "Name: target, dtype: float64"
      ]
     },
     "execution_count": 11,
     "metadata": {},
     "output_type": "execute_result"
    }
   ],
   "source": [
    "df['target'].value_counts(normalize=True)"
   ]
  },
  {
   "cell_type": "markdown",
   "id": "b2f02407",
   "metadata": {},
   "source": [
    "Terlihat bahwa data target tidak seimbang, dengan proporsi good loan jauh lebih besar dibanding bad loan. Oleh karena itu, langkah penanganan ketidakseimbangan data (imbalanced data handling) seperti upsampling dan downsampling akan dipertimbangkan pada tahap berikutnya."
   ]
  },
  {
   "cell_type": "markdown",
   "id": "0f67e7b8",
   "metadata": {},
   "source": [
    "# EDA"
   ]
  },
  {
   "cell_type": "markdown",
   "id": "42f28de8",
   "metadata": {},
   "source": [
    "**Hubungan Status Pinjaman dengan Total Pembayaran yang Diterima**"
   ]
  },
  {
   "cell_type": "code",
   "execution_count": 12,
   "id": "62dbb7ee",
   "metadata": {},
   "outputs": [
    {
     "data": {
      "image/png": "[encoded data removed]",
      "text/plain": [
       "<Figure size 1000x1000 with 1 Axes>"
      ]
     },
     "metadata": {},
     "output_type": "display_data"
    },
    {
     "data": {
      "text/html": [
       "<div>\n",
       "<style scoped>\n",
       "    .dataframe tbody tr th:only-of-type {\n",
       "        vertical-align: middle;\n",
       "    }\n",
       "\n",
       "    .dataframe tbody tr th {\n",
       "        vertical-align: top;\n",
       "    }\n",
       "\n",
       "    .dataframe thead th {\n",
       "        text-align: right;\n",
       "    }\n",
       "</style>\n",
       "<table border=\"1\" class=\"dataframe\">\n",
       "  <thead>\n",
       "    <tr style=\"text-align: right;\">\n",
       "      <th></th>\n",
       "      <th>count</th>\n",
       "      <th>mean</th>\n",
       "      <th>std</th>\n",
       "      <th>min</th>\n",
       "      <th>25%</th>\n",
       "      <th>50%</th>\n",
       "      <th>75%</th>\n",
       "      <th>max</th>\n",
       "    </tr>\n",
       "    <tr>\n",
       "      <th>target</th>\n",
       "      <th></th>\n",
       "      <th></th>\n",
       "      <th></th>\n",
       "      <th></th>\n",
       "      <th></th>\n",
       "      <th></th>\n",
       "      <th></th>\n",
       "      <th></th>\n",
       "    </tr>\n",
       "  </thead>\n",
       "  <tbody>\n",
       "    <tr>\n",
       "      <th>0</th>\n",
       "      <td>52186.0</td>\n",
       "      <td>7024.191781</td>\n",
       "      <td>5675.182531</td>\n",
       "      <td>0.00</td>\n",
       "      <td>3012.5975</td>\n",
       "      <td>5491.77000</td>\n",
       "      <td>9372.74250</td>\n",
       "      <td>50197.03000</td>\n",
       "    </tr>\n",
       "    <tr>\n",
       "      <th>1</th>\n",
       "      <td>186727.0</td>\n",
       "      <td>15160.113585</td>\n",
       "      <td>9452.545563</td>\n",
       "      <td>503.54</td>\n",
       "      <td>8035.1450</td>\n",
       "      <td>12930.93777</td>\n",
       "      <td>20429.38559</td>\n",
       "      <td>57777.57987</td>\n",
       "    </tr>\n",
       "  </tbody>\n",
       "</table>\n",
       "</div>"
      ],
      "text/plain": [
       "           count          mean          std     min        25%          50%  \\\n",
       "target                                                                        \n",
       "0        52186.0   7024.191781  5675.182531    0.00  3012.5975   5491.77000   \n",
       "1       186727.0  15160.113585  9452.545563  503.54  8035.1450  12930.93777   \n",
       "\n",
       "                75%          max  \n",
       "target                            \n",
       "0        9372.74250  50197.03000  \n",
       "1       20429.38559  57777.57987  "
      ]
     },
     "execution_count": 12,
     "metadata": {},
     "output_type": "execute_result"
    }
   ],
   "source": [
    "x = \"target\"\n",
    "y = \"total_pymnt\"\n",
    "plt.figure(figsize=(10,10))\n",
    "sns.boxplot(data=df, x=x, y=y, palette=\"Spectral\")\n",
    "plt.title(\"Distribusi Total Pembayaran yang Diterima\")\n",
    "plt.ylabel(\"\")\n",
    "plt.show()\n",
    "\n",
    "df.groupby(x)[y].describe()"
   ]
  },
  {
   "cell_type": "markdown",
   "id": "4f2de992",
   "metadata": {},
   "source": [
    "Dari grafik dan statistik di atas, dapat dilihat bahwa total pembayaran tertinggi umumnya berasal dari pinjaman yang sudah berhasil dilunasi (kategori baik)"
   ]
  },
  {
   "cell_type": "markdown",
   "id": "b275bc1e",
   "metadata": {},
   "source": [
    "**Status Pinjaman dan Besaran Pinjaman**"
   ]
  },
  {
   "cell_type": "code",
   "execution_count": 13,
   "id": "5ce52826",
   "metadata": {},
   "outputs": [
    {
     "data": {
      "image/png": "[encoded data removed]",
      "text/plain": [
       "<Figure size 1000x1000 with 1 Axes>"
      ]
     },
     "metadata": {},
     "output_type": "display_data"
    },
    {
     "data": {
      "text/html": [
       "<div>\n",
       "<style scoped>\n",
       "    .dataframe tbody tr th:only-of-type {\n",
       "        vertical-align: middle;\n",
       "    }\n",
       "\n",
       "    .dataframe tbody tr th {\n",
       "        vertical-align: top;\n",
       "    }\n",
       "\n",
       "    .dataframe thead th {\n",
       "        text-align: right;\n",
       "    }\n",
       "</style>\n",
       "<table border=\"1\" class=\"dataframe\">\n",
       "  <thead>\n",
       "    <tr style=\"text-align: right;\">\n",
       "      <th></th>\n",
       "      <th>count</th>\n",
       "      <th>mean</th>\n",
       "      <th>std</th>\n",
       "      <th>min</th>\n",
       "      <th>25%</th>\n",
       "      <th>50%</th>\n",
       "      <th>75%</th>\n",
       "      <th>max</th>\n",
       "    </tr>\n",
       "    <tr>\n",
       "      <th>target</th>\n",
       "      <th></th>\n",
       "      <th></th>\n",
       "      <th></th>\n",
       "      <th></th>\n",
       "      <th></th>\n",
       "      <th></th>\n",
       "      <th></th>\n",
       "      <th></th>\n",
       "    </tr>\n",
       "  </thead>\n",
       "  <tbody>\n",
       "    <tr>\n",
       "      <th>0</th>\n",
       "      <td>52186.0</td>\n",
       "      <td>14624.953053</td>\n",
       "      <td>8390.633508</td>\n",
       "      <td>500.0</td>\n",
       "      <td>8000.0</td>\n",
       "      <td>12800.0</td>\n",
       "      <td>20000.0</td>\n",
       "      <td>35000.0</td>\n",
       "    </tr>\n",
       "    <tr>\n",
       "      <th>1</th>\n",
       "      <td>186727.0</td>\n",
       "      <td>13167.962855</td>\n",
       "      <td>7944.742527</td>\n",
       "      <td>500.0</td>\n",
       "      <td>7000.0</td>\n",
       "      <td>11625.0</td>\n",
       "      <td>18000.0</td>\n",
       "      <td>35000.0</td>\n",
       "    </tr>\n",
       "  </tbody>\n",
       "</table>\n",
       "</div>"
      ],
      "text/plain": [
       "           count          mean          std    min     25%      50%      75%  \\\n",
       "target                                                                         \n",
       "0        52186.0  14624.953053  8390.633508  500.0  8000.0  12800.0  20000.0   \n",
       "1       186727.0  13167.962855  7944.742527  500.0  7000.0  11625.0  18000.0   \n",
       "\n",
       "            max  \n",
       "target           \n",
       "0       35000.0  \n",
       "1       35000.0  "
      ]
     },
     "execution_count": 13,
     "metadata": {},
     "output_type": "execute_result"
    }
   ],
   "source": [
    "x = \"target\"\n",
    "y = \"loan_amnt\"\n",
    "\n",
    "plt.figure(figsize=(10,10))\n",
    "sns.boxplot(data=df, x=x, y=y, palette=\"Spectral\")\n",
    "plt.title(\"Distribusi Besaran Pinjaman\")\n",
    "plt.ylabel(\"\")\n",
    "plt.show()\n",
    "\n",
    "df.groupby(x)[y].describe()\n"
   ]
  },
  {
   "cell_type": "markdown",
   "id": "4db9051d",
   "metadata": {},
   "source": [
    "Berdasarkan data, pinjaman dengan nilai total tertinggi justru berasal dari kelompok pinjaman yang gagal (bad loan), meskipun rata-rata pinjaman pada kelompok ini cenderung lebih besar dibanding yang sudah lunas."
   ]
  },
  {
   "cell_type": "markdown",
   "id": "e01c2a4b",
   "metadata": {},
   "source": [
    "**Tujuan Pengajuan Pinjaman**"
   ]
  },
  {
   "cell_type": "code",
   "execution_count": 14,
   "id": "3100dab7",
   "metadata": {},
   "outputs": [
    {
     "data": {
      "image/png": "[encoded data removed]",
      "text/plain": [
       "<Figure size 1000x1000 with 1 Axes>"
      ]
     },
     "metadata": {},
     "output_type": "display_data"
    },
    {
     "name": "stdout",
     "output_type": "stream",
     "text": [
      "debt_consolidation    58.22%\n",
      "credit_card           19.94%\n",
      "home_improvement       5.81%\n",
      "other                  5.74%\n",
      "major_purchase         2.50%\n",
      "small_business         2.01%\n",
      "car                    1.47%\n",
      "medical                1.14%\n",
      "wedding                0.84%\n",
      "moving                 0.80%\n",
      "house                  0.64%\n",
      "vacation               0.61%\n",
      "educational            0.18%\n",
      "renewable_energy       0.11%\n",
      "Name: purpose, dtype: object\n"
     ]
    }
   ],
   "source": [
    "value_counts = df[\"purpose\"].value_counts()\n",
    "\n",
    "plt.figure(figsize=(10,10))\n",
    "sns.countplot(y=\"purpose\", order=value_counts.index, data=df, palette=\"Spectral\")\n",
    "plt.show()\n",
    "\n",
    "percentage = value_counts / value_counts.sum()\n",
    "percentage = percentage.apply(\"{:.2%}\".format)\n",
    "print(percentage)"
   ]
  },
  {
   "cell_type": "markdown",
   "id": "98925115",
   "metadata": {},
   "source": [
    "Mayoritas peminjam menggunakan dana untuk melunasi hutang yang ada (debt consolidation), sementara tujuan lain seperti pendidikan, kesehatan, dan energi terbarukan relatif sedikit."
   ]
  },
  {
   "cell_type": "markdown",
   "id": "8546338a",
   "metadata": {},
   "source": [
    "**Distribusi Peminjam Berdasarkan Negara Bagian**"
   ]
  },
  {
   "cell_type": "code",
   "execution_count": 15,
   "id": "6e44cefb",
   "metadata": {},
   "outputs": [
    {
     "data": {
      "image/png": "[encoded data removed]",
      "text/plain": [
       "<Figure size 1000x1000 with 1 Axes>"
      ]
     },
     "metadata": {},
     "output_type": "display_data"
    },
    {
     "name": "stdout",
     "output_type": "stream",
     "text": [
      "CA    16.97%\n",
      "NY     8.63%\n",
      "TX     7.60%\n",
      "FL     6.97%\n",
      "NJ     3.87%\n",
      "IL     3.69%\n",
      "PA     3.38%\n",
      "GA     3.17%\n",
      "VA     3.16%\n",
      "OH     3.07%\n",
      "NC     2.70%\n",
      "MA     2.47%\n",
      "AZ     2.38%\n",
      "MD     2.38%\n",
      "MI     2.33%\n",
      "WA     2.31%\n",
      "CO     2.17%\n",
      "MN     1.73%\n",
      "MO     1.59%\n",
      "CT     1.49%\n",
      "NV     1.49%\n",
      "OR     1.30%\n",
      "AL     1.24%\n",
      "WI     1.21%\n",
      "LA     1.16%\n",
      "SC     1.11%\n",
      "IN     1.06%\n",
      "TN     0.94%\n",
      "KY     0.90%\n",
      "OK     0.84%\n",
      "KS     0.82%\n",
      "UT     0.81%\n",
      "AR     0.70%\n",
      "HI     0.57%\n",
      "NM     0.54%\n",
      "NH     0.46%\n",
      "WV     0.45%\n",
      "RI     0.43%\n",
      "DC     0.33%\n",
      "MT     0.30%\n",
      "AK     0.26%\n",
      "DE     0.26%\n",
      "WY     0.23%\n",
      "SD     0.22%\n",
      "VT     0.17%\n",
      "MS     0.14%\n",
      "NE     0.01%\n",
      "IA     0.01%\n",
      "ID     0.00%\n",
      "ME     0.00%\n",
      "Name: addr_state, dtype: object\n"
     ]
    }
   ],
   "source": [
    "value_counts = df[\"addr_state\"].value_counts()\n",
    "\n",
    "plt.figure(figsize=(10,10))\n",
    "sns.countplot(y=\"addr_state\", order=value_counts.index, data=df, palette=\"Spectral\")\n",
    "plt.show()\n",
    "\n",
    "percentage = value_counts / value_counts.sum()\n",
    "percentage = percentage.apply(\"{:.2%}\".format)\n",
    "print(percentage)"
   ]
  },
  {
   "cell_type": "markdown",
   "id": "74210345",
   "metadata": {},
   "source": [
    "Sebagian besar peminjam berasal dari California (CA), diikuti oleh New York (NY) dan Texas (TX)."
   ]
  },
  {
   "cell_type": "markdown",
   "id": "399d169a",
   "metadata": {},
   "source": [
    "**Status Kepemilikan Rumah Peminjam**"
   ]
  },
  {
   "cell_type": "code",
   "execution_count": 16,
   "id": "1c8de654",
   "metadata": {},
   "outputs": [
    {
     "data": {
      "image/png": "[encoded data removed]",
      "text/plain": [
       "<Figure size 1000x1000 with 1 Axes>"
      ]
     },
     "metadata": {},
     "output_type": "display_data"
    }
   ],
   "source": [
    "plt.figure(figsize=(10,10))\n",
    "sns.countplot(y=\"home_ownership\", data=df, palette=\"Spectral\")\n",
    "plt.show()\n"
   ]
  },
  {
   "cell_type": "markdown",
   "id": "309ba83a",
   "metadata": {},
   "source": [
    "Terlihat bahwa kebanyakan peminjam menggunakan rumah mereka sebagai jaminan pinjaman, sedangkan yang memiliki rumah secara pribadi lebih sedikit."
   ]
  },
  {
   "cell_type": "markdown",
   "id": "696076cf",
   "metadata": {},
   "source": [
    "**Tingkat Suku Bunga Berdasarkan Grade Pinjaman**"
   ]
  },
  {
   "cell_type": "code",
   "execution_count": 17,
   "id": "5707b1ae",
   "metadata": {},
   "outputs": [
    {
     "data": {
      "image/png": "[encoded data removed]",
      "text/plain": [
       "<Figure size 1000x1000 with 1 Axes>"
      ]
     },
     "metadata": {},
     "output_type": "display_data"
    },
    {
     "data": {
      "text/html": [
       "<div>\n",
       "<style scoped>\n",
       "    .dataframe tbody tr th:only-of-type {\n",
       "        vertical-align: middle;\n",
       "    }\n",
       "\n",
       "    .dataframe tbody tr th {\n",
       "        vertical-align: top;\n",
       "    }\n",
       "\n",
       "    .dataframe thead th {\n",
       "        text-align: right;\n",
       "    }\n",
       "</style>\n",
       "<table border=\"1\" class=\"dataframe\">\n",
       "  <thead>\n",
       "    <tr style=\"text-align: right;\">\n",
       "      <th></th>\n",
       "      <th>count</th>\n",
       "      <th>mean</th>\n",
       "      <th>std</th>\n",
       "      <th>min</th>\n",
       "      <th>25%</th>\n",
       "      <th>50%</th>\n",
       "      <th>75%</th>\n",
       "      <th>max</th>\n",
       "    </tr>\n",
       "    <tr>\n",
       "      <th>grade</th>\n",
       "      <th></th>\n",
       "      <th></th>\n",
       "      <th></th>\n",
       "      <th></th>\n",
       "      <th></th>\n",
       "      <th></th>\n",
       "      <th></th>\n",
       "      <th></th>\n",
       "    </tr>\n",
       "  </thead>\n",
       "  <tbody>\n",
       "    <tr>\n",
       "      <th>A</th>\n",
       "      <td>39500.0</td>\n",
       "      <td>7.548551</td>\n",
       "      <td>1.002864</td>\n",
       "      <td>5.42</td>\n",
       "      <td>6.62</td>\n",
       "      <td>7.62</td>\n",
       "      <td>8.39</td>\n",
       "      <td>9.63</td>\n",
       "    </tr>\n",
       "    <tr>\n",
       "      <th>B</th>\n",
       "      <td>72239.0</td>\n",
       "      <td>11.654911</td>\n",
       "      <td>1.280894</td>\n",
       "      <td>6.00</td>\n",
       "      <td>10.74</td>\n",
       "      <td>11.71</td>\n",
       "      <td>12.49</td>\n",
       "      <td>14.09</td>\n",
       "    </tr>\n",
       "    <tr>\n",
       "      <th>C</th>\n",
       "      <td>61042.0</td>\n",
       "      <td>14.760351</td>\n",
       "      <td>1.229674</td>\n",
       "      <td>6.00</td>\n",
       "      <td>13.98</td>\n",
       "      <td>14.64</td>\n",
       "      <td>15.61</td>\n",
       "      <td>17.27</td>\n",
       "    </tr>\n",
       "    <tr>\n",
       "      <th>D</th>\n",
       "      <td>38715.0</td>\n",
       "      <td>17.623237</td>\n",
       "      <td>1.474671</td>\n",
       "      <td>6.00</td>\n",
       "      <td>16.59</td>\n",
       "      <td>17.77</td>\n",
       "      <td>18.75</td>\n",
       "      <td>20.31</td>\n",
       "    </tr>\n",
       "    <tr>\n",
       "      <th>E</th>\n",
       "      <td>18086.0</td>\n",
       "      <td>20.362172</td>\n",
       "      <td>1.887752</td>\n",
       "      <td>6.00</td>\n",
       "      <td>19.52</td>\n",
       "      <td>20.80</td>\n",
       "      <td>21.70</td>\n",
       "      <td>23.40</td>\n",
       "    </tr>\n",
       "    <tr>\n",
       "      <th>F</th>\n",
       "      <td>7348.0</td>\n",
       "      <td>23.192361</td>\n",
       "      <td>2.053790</td>\n",
       "      <td>6.00</td>\n",
       "      <td>22.95</td>\n",
       "      <td>23.70</td>\n",
       "      <td>24.50</td>\n",
       "      <td>25.57</td>\n",
       "    </tr>\n",
       "    <tr>\n",
       "      <th>G</th>\n",
       "      <td>1983.0</td>\n",
       "      <td>24.290570</td>\n",
       "      <td>2.460741</td>\n",
       "      <td>16.59</td>\n",
       "      <td>23.91</td>\n",
       "      <td>25.80</td>\n",
       "      <td>25.83</td>\n",
       "      <td>26.06</td>\n",
       "    </tr>\n",
       "  </tbody>\n",
       "</table>\n",
       "</div>"
      ],
      "text/plain": [
       "         count       mean       std    min    25%    50%    75%    max\n",
       "grade                                                                 \n",
       "A      39500.0   7.548551  1.002864   5.42   6.62   7.62   8.39   9.63\n",
       "B      72239.0  11.654911  1.280894   6.00  10.74  11.71  12.49  14.09\n",
       "C      61042.0  14.760351  1.229674   6.00  13.98  14.64  15.61  17.27\n",
       "D      38715.0  17.623237  1.474671   6.00  16.59  17.77  18.75  20.31\n",
       "E      18086.0  20.362172  1.887752   6.00  19.52  20.80  21.70  23.40\n",
       "F       7348.0  23.192361  2.053790   6.00  22.95  23.70  24.50  25.57\n",
       "G       1983.0  24.290570  2.460741  16.59  23.91  25.80  25.83  26.06"
      ]
     },
     "execution_count": 17,
     "metadata": {},
     "output_type": "execute_result"
    }
   ],
   "source": [
    "x = \"int_rate\"\n",
    "y = \"grade\"\n",
    "order = df[y].sort_values().unique()\n",
    "\n",
    "plt.figure(figsize=(10,10))\n",
    "sns.boxplot(data=df, x=x, y=y, order=order, palette=\"Spectral\")\n",
    "plt.show()\n",
    "\n",
    "df.groupby(y)[x].describe()"
   ]
  },
  {
   "cell_type": "markdown",
   "id": "22151a50",
   "metadata": {},
   "source": [
    "Tingkat suku bunga pinjaman cenderung meningkat dari grade A ke G, yang berarti semakin tinggi grade, semakin besar bunga yang dikenakan."
   ]
  },
  {
   "cell_type": "markdown",
   "id": "50e7ba21",
   "metadata": {},
   "source": [
    "# Preprocessing"
   ]
  },
  {
   "cell_type": "markdown",
   "id": "b5567ce3",
   "metadata": {},
   "source": [
    "## Penanganan Data yang Hilang (Missing Values)"
   ]
  },
  {
   "cell_type": "code",
   "execution_count": 18,
   "id": "1300c2c3",
   "metadata": {},
   "outputs": [
    {
     "data": {
      "text/html": [
       "<div>\n",
       "<style scoped>\n",
       "    .dataframe tbody tr th:only-of-type {\n",
       "        vertical-align: middle;\n",
       "    }\n",
       "\n",
       "    .dataframe tbody tr th {\n",
       "        vertical-align: top;\n",
       "    }\n",
       "\n",
       "    .dataframe thead th {\n",
       "        text-align: right;\n",
       "    }\n",
       "</style>\n",
       "<table border=\"1\" class=\"dataframe\">\n",
       "  <thead>\n",
       "    <tr style=\"text-align: right;\">\n",
       "      <th></th>\n",
       "      <th>features</th>\n",
       "      <th>missing_value</th>\n",
       "      <th>Percentage</th>\n",
       "    </tr>\n",
       "  </thead>\n",
       "  <tbody>\n",
       "    <tr>\n",
       "      <th>0</th>\n",
       "      <td>open_acc_6m</td>\n",
       "      <td>238913</td>\n",
       "      <td>100.0</td>\n",
       "    </tr>\n",
       "    <tr>\n",
       "      <th>1</th>\n",
       "      <td>il_util</td>\n",
       "      <td>238913</td>\n",
       "      <td>100.0</td>\n",
       "    </tr>\n",
       "    <tr>\n",
       "      <th>2</th>\n",
       "      <td>verification_status_joint</td>\n",
       "      <td>238913</td>\n",
       "      <td>100.0</td>\n",
       "    </tr>\n",
       "    <tr>\n",
       "      <th>3</th>\n",
       "      <td>dti_joint</td>\n",
       "      <td>238913</td>\n",
       "      <td>100.0</td>\n",
       "    </tr>\n",
       "    <tr>\n",
       "      <th>4</th>\n",
       "      <td>annual_inc_joint</td>\n",
       "      <td>238913</td>\n",
       "      <td>100.0</td>\n",
       "    </tr>\n",
       "    <tr>\n",
       "      <th>...</th>\n",
       "      <td>...</td>\n",
       "      <td>...</td>\n",
       "      <td>...</td>\n",
       "    </tr>\n",
       "    <tr>\n",
       "      <th>71</th>\n",
       "      <td>total_pymnt</td>\n",
       "      <td>0</td>\n",
       "      <td>0.0</td>\n",
       "    </tr>\n",
       "    <tr>\n",
       "      <th>72</th>\n",
       "      <td>total_pymnt_inv</td>\n",
       "      <td>0</td>\n",
       "      <td>0.0</td>\n",
       "    </tr>\n",
       "    <tr>\n",
       "      <th>73</th>\n",
       "      <td>total_rec_prncp</td>\n",
       "      <td>0</td>\n",
       "      <td>0.0</td>\n",
       "    </tr>\n",
       "    <tr>\n",
       "      <th>74</th>\n",
       "      <td>total_rec_int</td>\n",
       "      <td>0</td>\n",
       "      <td>0.0</td>\n",
       "    </tr>\n",
       "    <tr>\n",
       "      <th>75</th>\n",
       "      <td>target</td>\n",
       "      <td>0</td>\n",
       "      <td>0.0</td>\n",
       "    </tr>\n",
       "  </tbody>\n",
       "</table>\n",
       "<p>76 rows × 3 columns</p>\n",
       "</div>"
      ],
      "text/plain": [
       "                     features  missing_value  Percentage\n",
       "0                 open_acc_6m         238913       100.0\n",
       "1                     il_util         238913       100.0\n",
       "2   verification_status_joint         238913       100.0\n",
       "3                   dti_joint         238913       100.0\n",
       "4            annual_inc_joint         238913       100.0\n",
       "..                        ...            ...         ...\n",
       "71                total_pymnt              0         0.0\n",
       "72            total_pymnt_inv              0         0.0\n",
       "73            total_rec_prncp              0         0.0\n",
       "74              total_rec_int              0         0.0\n",
       "75                     target              0         0.0\n",
       "\n",
       "[76 rows x 3 columns]"
      ]
     },
     "execution_count": 18,
     "metadata": {},
     "output_type": "execute_result"
    }
   ],
   "source": [
    "df_null = df.isnull().sum().reset_index()\n",
    "df_null.columns = [\"features\", \"missing_value\"]\n",
    "df_null['Percentage'] = (df_null[\"missing_value\"] / df.shape[0]) * 100\n",
    "df_null.sort_values(by='Percentage', ascending=False).reset_index(drop=True)"
   ]
  },
  {
   "cell_type": "markdown",
   "id": "47f19501",
   "metadata": {},
   "source": [
    "Output menunjukkan fitur-fitur dengan persentase nilai hilang tertinggi hingga terendah."
   ]
  },
  {
   "cell_type": "code",
   "execution_count": 19,
   "id": "3ad951d6",
   "metadata": {},
   "outputs": [],
   "source": [
    "to_drop = df_null[df_null['Percentage'] > 25]['features']\n",
    "to_drop\n",
    "\n",
    "df.drop(to_drop, axis=1, inplace=True)\n",
    "df.drop('Unnamed: 0', axis=1, inplace=True)"
   ]
  },
  {
   "cell_type": "markdown",
   "id": "8d5325b4",
   "metadata": {},
   "source": [
    "Setelah menghapus kolom dengan nilai hilang lebih dari 25%, ukuran dataset menjadi:"
   ]
  },
  {
   "cell_type": "code",
   "execution_count": 20,
   "id": "9eefe8e8",
   "metadata": {},
   "outputs": [
    {
     "data": {
      "text/plain": [
       "(238913, 50)"
      ]
     },
     "execution_count": 20,
     "metadata": {},
     "output_type": "execute_result"
    }
   ],
   "source": [
    "df.shape"
   ]
  },
  {
   "cell_type": "markdown",
   "id": "5d9524ee",
   "metadata": {},
   "source": [
    "Untuk mengambil kolom dengan tipe data numerik:"
   ]
  },
  {
   "cell_type": "code",
   "execution_count": 21,
   "id": "67f1ba06",
   "metadata": {},
   "outputs": [
    {
     "data": {
      "text/plain": [
       "(238913, 30)"
      ]
     },
     "execution_count": 21,
     "metadata": {},
     "output_type": "execute_result"
    }
   ],
   "source": [
    "df_num = df.select_dtypes(include='number')\n",
    "df_num.shape"
   ]
  },
  {
   "cell_type": "markdown",
   "id": "4928631d",
   "metadata": {},
   "source": [
    "Selanjutnya, kolom yang memiliki nilai hilang kurang dari 25% akan diisi. Nilai numerik diisi dengan rata-rata (mean), sedangkan untuk kolom non-numerik diisi dengan modus (nilai yang paling sering muncul)."
   ]
  },
  {
   "cell_type": "code",
   "execution_count": 22,
   "id": "5b90be0b",
   "metadata": {},
   "outputs": [],
   "source": [
    "to_fill = df_null[(df_null['Percentage'] <= 25) & (df_null['Percentage'] > 0)]['features']\n",
    "\n",
    "for feature in to_fill:\n",
    "    if feature in df_num.columns:\n",
    "        df[feature].fillna(int(df[feature].mean()), inplace=True)\n",
    "    else:\n",
    "        df[feature].fillna(str(df[feature].mode()), inplace=True)"
   ]
  },
  {
   "cell_type": "markdown",
   "id": "562ccbe6",
   "metadata": {},
   "source": [
    "Setelah proses pengisian nilai hilang, pengecekan jumlah nilai kosong dilakukan:"
   ]
  },
  {
   "cell_type": "code",
   "execution_count": 23,
   "id": "e02eb47f",
   "metadata": {},
   "outputs": [
    {
     "name": "stdout",
     "output_type": "stream",
     "text": [
      "[0, 0, 0, 0, 0, 0, 0, 0, 0, 0, 0, 0, 0, 0, 0, 0, 0, 0, 0, 0, 0, 0, 0, 0, 0, 0, 0, 0, 0, 0, 0, 0, 0, 0, 0, 0, 0, 0, 0, 0, 0, 0, 0, 0, 0, 0, 0, 0, 0, 0]\n"
     ]
    }
   ],
   "source": [
    "print(df.isna().sum().tolist())"
   ]
  },
  {
   "cell_type": "markdown",
   "id": "07e058fb",
   "metadata": {},
   "source": [
    "Semua nilai kosong telah terisi, sehingga output berupa daftar nol untuk setiap kolom."
   ]
  },
  {
   "cell_type": "markdown",
   "id": "cd77d328",
   "metadata": {},
   "source": [
    "Selain itu, pengecekan data duplikat juga dilakukan untuk memastikan tidak ada baris data yang sama."
   ]
  },
  {
   "cell_type": "code",
   "execution_count": 24,
   "id": "0b9ef8d0",
   "metadata": {},
   "outputs": [
    {
     "data": {
      "text/plain": [
       "0"
      ]
     },
     "execution_count": 24,
     "metadata": {},
     "output_type": "execute_result"
    }
   ],
   "source": [
    "df.duplicated().sum()"
   ]
  },
  {
   "cell_type": "markdown",
   "id": "7fdce4c9",
   "metadata": {},
   "source": [
    "Hasilnya adalah: 0, yang berarti tidak ditemukan data duplikat."
   ]
  },
  {
   "cell_type": "markdown",
   "id": "48c4bdd5",
   "metadata": {},
   "source": [
    "Terakhir, informasi ringkas mengenai dataset dapat diperoleh dengan:"
   ]
  },
  {
   "cell_type": "code",
   "execution_count": 25,
   "id": "3ae21876",
   "metadata": {},
   "outputs": [
    {
     "name": "stdout",
     "output_type": "stream",
     "text": [
      "<class 'pandas.core.frame.DataFrame'>\n",
      "Int64Index: 238913 entries, 0 to 466283\n",
      "Data columns (total 50 columns):\n",
      " #   Column                      Non-Null Count   Dtype  \n",
      "---  ------                      --------------   -----  \n",
      " 0   id                          238913 non-null  int64  \n",
      " 1   member_id                   238913 non-null  int64  \n",
      " 2   loan_amnt                   238913 non-null  int64  \n",
      " 3   funded_amnt                 238913 non-null  int64  \n",
      " 4   funded_amnt_inv             238913 non-null  float64\n",
      " 5   term                        238913 non-null  object \n",
      " 6   int_rate                    238913 non-null  float64\n",
      " 7   installment                 238913 non-null  float64\n",
      " 8   grade                       238913 non-null  object \n",
      " 9   sub_grade                   238913 non-null  object \n",
      " 10  emp_title                   238913 non-null  object \n",
      " 11  emp_length                  238913 non-null  object \n",
      " 12  home_ownership              238913 non-null  object \n",
      " 13  annual_inc                  238913 non-null  float64\n",
      " 14  verification_status         238913 non-null  object \n",
      " 15  issue_d                     238913 non-null  object \n",
      " 16  loan_status                 238913 non-null  object \n",
      " 17  pymnt_plan                  238913 non-null  object \n",
      " 18  url                         238913 non-null  object \n",
      " 19  purpose                     238913 non-null  object \n",
      " 20  title                       238913 non-null  object \n",
      " 21  zip_code                    238913 non-null  object \n",
      " 22  addr_state                  238913 non-null  object \n",
      " 23  dti                         238913 non-null  float64\n",
      " 24  delinq_2yrs                 238913 non-null  float64\n",
      " 25  earliest_cr_line            238913 non-null  object \n",
      " 26  inq_last_6mths              238913 non-null  float64\n",
      " 27  open_acc                    238913 non-null  float64\n",
      " 28  pub_rec                     238913 non-null  float64\n",
      " 29  revol_bal                   238913 non-null  int64  \n",
      " 30  revol_util                  238913 non-null  float64\n",
      " 31  total_acc                   238913 non-null  float64\n",
      " 32  initial_list_status         238913 non-null  object \n",
      " 33  out_prncp                   238913 non-null  float64\n",
      " 34  out_prncp_inv               238913 non-null  float64\n",
      " 35  total_pymnt                 238913 non-null  float64\n",
      " 36  total_pymnt_inv             238913 non-null  float64\n",
      " 37  total_rec_prncp             238913 non-null  float64\n",
      " 38  total_rec_int               238913 non-null  float64\n",
      " 39  total_rec_late_fee          238913 non-null  float64\n",
      " 40  recoveries                  238913 non-null  float64\n",
      " 41  collection_recovery_fee     238913 non-null  float64\n",
      " 42  last_pymnt_d                238913 non-null  object \n",
      " 43  last_pymnt_amnt             238913 non-null  float64\n",
      " 44  last_credit_pull_d          238913 non-null  object \n",
      " 45  collections_12_mths_ex_med  238913 non-null  float64\n",
      " 46  policy_code                 238913 non-null  int64  \n",
      " 47  application_type            238913 non-null  object \n",
      " 48  acc_now_delinq              238913 non-null  float64\n",
      " 49  target                      238913 non-null  int32  \n",
      "dtypes: float64(23), int32(1), int64(6), object(20)\n",
      "memory usage: 92.0+ MB\n"
     ]
    }
   ],
   "source": [
    "df.info()"
   ]
  },
  {
   "cell_type": "markdown",
   "id": "71ed7f32",
   "metadata": {},
   "source": [
    "Hasil ini menunjukkan preprocessing telah berhasil dilakukan."
   ]
  },
  {
   "cell_type": "markdown",
   "id": "e0558969",
   "metadata": {},
   "source": [
    "# Pemilihan Fitur (Feature Selection)"
   ]
  },
  {
   "cell_type": "code",
   "execution_count": 26,
   "id": "df931b8b",
   "metadata": {},
   "outputs": [],
   "source": [
    "df_obj = df.select_dtypes(include='object')"
   ]
  },
  {
   "cell_type": "code",
   "execution_count": 27,
   "id": "c440fab7",
   "metadata": {},
   "outputs": [],
   "source": [
    "unique_obj = df_obj.nunique()\n",
    "unique_num = df_num.nunique()"
   ]
  },
  {
   "cell_type": "markdown",
   "id": "a5929b19",
   "metadata": {},
   "source": [
    "Pada tahap ini, kita mencari fitur numerik dan non-numerik yang memiliki nilai unik sebanyak 1 (konstan), nilai unik sebanyak total baris (unik semua), serta fitur non-numerik yang memiliki jumlah nilai unik sangat banyak (> 500). Nantinya, fitur-fitur ini akan kita hapus."
   ]
  },
  {
   "cell_type": "code",
   "execution_count": 28,
   "id": "8780675f",
   "metadata": {},
   "outputs": [
    {
     "name": "stdout",
     "output_type": "stream",
     "text": [
      "['application_type']\n",
      "['policy_code']\n"
     ]
    }
   ],
   "source": [
    "single_obj_colname = unique_obj[unique_obj == 1].index.to_list()\n",
    "single_num_colname = unique_num[unique_num == 1].index.to_list()\n",
    "\n",
    "print(single_obj_colname)\n",
    "print(single_num_colname)"
   ]
  },
  {
   "cell_type": "markdown",
   "id": "0cfaf31f",
   "metadata": {},
   "source": [
    "Selanjutnya, kita identifikasi fitur yang semua nilainya unik (jumlah unik = jumlah data):"
   ]
  },
  {
   "cell_type": "code",
   "execution_count": 29,
   "id": "b58c66d9",
   "metadata": {},
   "outputs": [
    {
     "name": "stdout",
     "output_type": "stream",
     "text": [
      "['url']\n",
      "['id', 'member_id']\n"
     ]
    }
   ],
   "source": [
    "unique_obj_colname = unique_obj[unique_obj == df.shape[0]].index.to_list()\n",
    "unique_num_colname = unique_num[unique_num == df.shape[0]].index.to_list()\n",
    "\n",
    "print(unique_obj_colname)\n",
    "print(unique_num_colname)"
   ]
  },
  {
   "cell_type": "markdown",
   "id": "c54689db",
   "metadata": {},
   "source": [
    "Kemudian, kita cari fitur non-numerik yang memiliki banyak sekali nilai unik (lebih dari 500):"
   ]
  },
  {
   "cell_type": "code",
   "execution_count": 30,
   "id": "9eab5642",
   "metadata": {},
   "outputs": [
    {
     "name": "stdout",
     "output_type": "stream",
     "text": [
      "['emp_title', 'url', 'title', 'zip_code', 'earliest_cr_line']\n"
     ]
    }
   ],
   "source": [
    "mul_obj_colname = unique_obj[unique_obj > 500].index.to_list()\n",
    "print(mul_obj_colname)"
   ]
  },
  {
   "cell_type": "markdown",
   "id": "938154cf",
   "metadata": {},
   "source": [
    "Semua fitur tersebut kita gabungkan ke dalam daftar penghapusan:"
   ]
  },
  {
   "cell_type": "code",
   "execution_count": 31,
   "id": "db2aafcf",
   "metadata": {},
   "outputs": [],
   "source": [
    "remove = single_obj_colname + single_num_colname + unique_obj_colname + unique_num_colname + mul_obj_colname"
   ]
  },
  {
   "cell_type": "markdown",
   "id": "d0bd3122",
   "metadata": {},
   "source": [
    "Kemudian kita buat dataset baru dengan menghapus fitur-fitur tersebut:"
   ]
  },
  {
   "cell_type": "code",
   "execution_count": 32,
   "id": "f9443949",
   "metadata": {},
   "outputs": [
    {
     "data": {
      "text/plain": [
       "(238913, 41)"
      ]
     },
     "execution_count": 32,
     "metadata": {},
     "output_type": "execute_result"
    }
   ],
   "source": [
    "new_df = df.loc[:, ~df.columns.isin(remove)].copy()\n",
    "new_df.shape"
   ]
  },
  {
   "cell_type": "markdown",
   "id": "6221866f",
   "metadata": {},
   "source": [
    "Untuk melihat data baru awalnya:"
   ]
  },
  {
   "cell_type": "code",
   "execution_count": 33,
   "id": "2afc8fc2",
   "metadata": {},
   "outputs": [
    {
     "data": {
      "text/html": [
       "<div>\n",
       "<style scoped>\n",
       "    .dataframe tbody tr th:only-of-type {\n",
       "        vertical-align: middle;\n",
       "    }\n",
       "\n",
       "    .dataframe tbody tr th {\n",
       "        vertical-align: top;\n",
       "    }\n",
       "\n",
       "    .dataframe thead th {\n",
       "        text-align: right;\n",
       "    }\n",
       "</style>\n",
       "<table border=\"1\" class=\"dataframe\">\n",
       "  <thead>\n",
       "    <tr style=\"text-align: right;\">\n",
       "      <th></th>\n",
       "      <th>loan_amnt</th>\n",
       "      <th>funded_amnt</th>\n",
       "      <th>funded_amnt_inv</th>\n",
       "      <th>term</th>\n",
       "      <th>int_rate</th>\n",
       "      <th>installment</th>\n",
       "      <th>grade</th>\n",
       "      <th>sub_grade</th>\n",
       "      <th>emp_length</th>\n",
       "      <th>home_ownership</th>\n",
       "      <th>...</th>\n",
       "      <th>total_rec_int</th>\n",
       "      <th>total_rec_late_fee</th>\n",
       "      <th>recoveries</th>\n",
       "      <th>collection_recovery_fee</th>\n",
       "      <th>last_pymnt_d</th>\n",
       "      <th>last_pymnt_amnt</th>\n",
       "      <th>last_credit_pull_d</th>\n",
       "      <th>collections_12_mths_ex_med</th>\n",
       "      <th>acc_now_delinq</th>\n",
       "      <th>target</th>\n",
       "    </tr>\n",
       "  </thead>\n",
       "  <tbody>\n",
       "    <tr>\n",
       "      <th>0</th>\n",
       "      <td>5000</td>\n",
       "      <td>5000</td>\n",
       "      <td>4975.0</td>\n",
       "      <td>36 months</td>\n",
       "      <td>10.65</td>\n",
       "      <td>162.87</td>\n",
       "      <td>B</td>\n",
       "      <td>B2</td>\n",
       "      <td>10+ years</td>\n",
       "      <td>RENT</td>\n",
       "      <td>...</td>\n",
       "      <td>861.07</td>\n",
       "      <td>0.00</td>\n",
       "      <td>0.00</td>\n",
       "      <td>0.00</td>\n",
       "      <td>Jan-15</td>\n",
       "      <td>171.62</td>\n",
       "      <td>Jan-16</td>\n",
       "      <td>0.0</td>\n",
       "      <td>0.0</td>\n",
       "      <td>1</td>\n",
       "    </tr>\n",
       "    <tr>\n",
       "      <th>1</th>\n",
       "      <td>2500</td>\n",
       "      <td>2500</td>\n",
       "      <td>2500.0</td>\n",
       "      <td>60 months</td>\n",
       "      <td>15.27</td>\n",
       "      <td>59.83</td>\n",
       "      <td>C</td>\n",
       "      <td>C4</td>\n",
       "      <td>&lt; 1 year</td>\n",
       "      <td>RENT</td>\n",
       "      <td>...</td>\n",
       "      <td>435.17</td>\n",
       "      <td>0.00</td>\n",
       "      <td>117.08</td>\n",
       "      <td>1.11</td>\n",
       "      <td>Apr-13</td>\n",
       "      <td>119.66</td>\n",
       "      <td>Sep-13</td>\n",
       "      <td>0.0</td>\n",
       "      <td>0.0</td>\n",
       "      <td>0</td>\n",
       "    </tr>\n",
       "    <tr>\n",
       "      <th>2</th>\n",
       "      <td>2400</td>\n",
       "      <td>2400</td>\n",
       "      <td>2400.0</td>\n",
       "      <td>36 months</td>\n",
       "      <td>15.96</td>\n",
       "      <td>84.33</td>\n",
       "      <td>C</td>\n",
       "      <td>C5</td>\n",
       "      <td>10+ years</td>\n",
       "      <td>RENT</td>\n",
       "      <td>...</td>\n",
       "      <td>603.65</td>\n",
       "      <td>0.00</td>\n",
       "      <td>0.00</td>\n",
       "      <td>0.00</td>\n",
       "      <td>Jun-14</td>\n",
       "      <td>649.91</td>\n",
       "      <td>Jan-16</td>\n",
       "      <td>0.0</td>\n",
       "      <td>0.0</td>\n",
       "      <td>1</td>\n",
       "    </tr>\n",
       "    <tr>\n",
       "      <th>3</th>\n",
       "      <td>10000</td>\n",
       "      <td>10000</td>\n",
       "      <td>10000.0</td>\n",
       "      <td>36 months</td>\n",
       "      <td>13.49</td>\n",
       "      <td>339.31</td>\n",
       "      <td>C</td>\n",
       "      <td>C1</td>\n",
       "      <td>10+ years</td>\n",
       "      <td>RENT</td>\n",
       "      <td>...</td>\n",
       "      <td>2209.33</td>\n",
       "      <td>16.97</td>\n",
       "      <td>0.00</td>\n",
       "      <td>0.00</td>\n",
       "      <td>Jan-15</td>\n",
       "      <td>357.48</td>\n",
       "      <td>Jan-15</td>\n",
       "      <td>0.0</td>\n",
       "      <td>0.0</td>\n",
       "      <td>1</td>\n",
       "    </tr>\n",
       "    <tr>\n",
       "      <th>5</th>\n",
       "      <td>5000</td>\n",
       "      <td>5000</td>\n",
       "      <td>5000.0</td>\n",
       "      <td>36 months</td>\n",
       "      <td>7.90</td>\n",
       "      <td>156.46</td>\n",
       "      <td>A</td>\n",
       "      <td>A4</td>\n",
       "      <td>3 years</td>\n",
       "      <td>RENT</td>\n",
       "      <td>...</td>\n",
       "      <td>631.38</td>\n",
       "      <td>0.00</td>\n",
       "      <td>0.00</td>\n",
       "      <td>0.00</td>\n",
       "      <td>Jan-15</td>\n",
       "      <td>161.03</td>\n",
       "      <td>Sep-15</td>\n",
       "      <td>0.0</td>\n",
       "      <td>0.0</td>\n",
       "      <td>1</td>\n",
       "    </tr>\n",
       "  </tbody>\n",
       "</table>\n",
       "<p>5 rows × 41 columns</p>\n",
       "</div>"
      ],
      "text/plain": [
       "   loan_amnt  funded_amnt  funded_amnt_inv        term  int_rate  installment  \\\n",
       "0       5000         5000           4975.0   36 months     10.65       162.87   \n",
       "1       2500         2500           2500.0   60 months     15.27        59.83   \n",
       "2       2400         2400           2400.0   36 months     15.96        84.33   \n",
       "3      10000        10000          10000.0   36 months     13.49       339.31   \n",
       "5       5000         5000           5000.0   36 months      7.90       156.46   \n",
       "\n",
       "  grade sub_grade emp_length home_ownership  ...  total_rec_int  \\\n",
       "0     B        B2  10+ years           RENT  ...         861.07   \n",
       "1     C        C4   < 1 year           RENT  ...         435.17   \n",
       "2     C        C5  10+ years           RENT  ...         603.65   \n",
       "3     C        C1  10+ years           RENT  ...        2209.33   \n",
       "5     A        A4    3 years           RENT  ...         631.38   \n",
       "\n",
       "  total_rec_late_fee recoveries collection_recovery_fee last_pymnt_d  \\\n",
       "0               0.00       0.00                    0.00       Jan-15   \n",
       "1               0.00     117.08                    1.11       Apr-13   \n",
       "2               0.00       0.00                    0.00       Jun-14   \n",
       "3              16.97       0.00                    0.00       Jan-15   \n",
       "5               0.00       0.00                    0.00       Jan-15   \n",
       "\n",
       "  last_pymnt_amnt last_credit_pull_d  collections_12_mths_ex_med  \\\n",
       "0          171.62             Jan-16                         0.0   \n",
       "1          119.66             Sep-13                         0.0   \n",
       "2          649.91             Jan-16                         0.0   \n",
       "3          357.48             Jan-15                         0.0   \n",
       "5          161.03             Sep-15                         0.0   \n",
       "\n",
       "   acc_now_delinq  target  \n",
       "0             0.0       1  \n",
       "1             0.0       0  \n",
       "2             0.0       1  \n",
       "3             0.0       1  \n",
       "5             0.0       1  \n",
       "\n",
       "[5 rows x 41 columns]"
      ]
     },
     "execution_count": 33,
     "metadata": {},
     "output_type": "execute_result"
    }
   ],
   "source": [
    "new_df.head()"
   ]
  },
  {
   "cell_type": "code",
   "execution_count": 34,
   "id": "a35a92d8",
   "metadata": {},
   "outputs": [
    {
     "data": {
      "text/plain": [
       "Index(['loan_amnt', 'funded_amnt', 'funded_amnt_inv', 'term', 'int_rate',\n",
       "       'installment', 'grade', 'sub_grade', 'emp_length', 'home_ownership',\n",
       "       'annual_inc', 'verification_status', 'issue_d', 'loan_status',\n",
       "       'pymnt_plan', 'purpose', 'addr_state', 'dti', 'delinq_2yrs',\n",
       "       'inq_last_6mths', 'open_acc', 'pub_rec', 'revol_bal', 'revol_util',\n",
       "       'total_acc', 'initial_list_status', 'out_prncp', 'out_prncp_inv',\n",
       "       'total_pymnt', 'total_pymnt_inv', 'total_rec_prncp', 'total_rec_int',\n",
       "       'total_rec_late_fee', 'recoveries', 'collection_recovery_fee',\n",
       "       'last_pymnt_d', 'last_pymnt_amnt', 'last_credit_pull_d',\n",
       "       'collections_12_mths_ex_med', 'acc_now_delinq', 'target'],\n",
       "      dtype='object')"
      ]
     },
     "execution_count": 34,
     "metadata": {},
     "output_type": "execute_result"
    }
   ],
   "source": [
    "new_df.columns"
   ]
  },
  {
   "cell_type": "markdown",
   "id": "86935ea5",
   "metadata": {},
   "source": [
    "Beberapa fitur berikut memberikan informasi yang secara langsung bisa memprediksi target. Jika fitur-fitur ini tetap digunakan saat pelatihan model, hasilnya bisa sangat bagus secara palsu karena adanya data leakage — informasi dari fitur-fitur tersebut sudah mengandung hasil yang ingin diprediksi. Oleh karena itu, fitur-fitur ini harus dihapus agar model yang dibangun benar-benar valid.\n",
    "\n",
    "Fitur-fitur yang termasuk data leakage adalah:\n",
    "- 'issue_d' : Bulan pinjaman diberikan\n",
    "- 'loan_status' : Status pinjaman saat ini\n",
    "- 'pymnt_plan' : Rencana pembayaran\n",
    "- 'out_prncp' : Sisa pokok pinjaman yang harus dibayar secara keseluruhan\n",
    "- 'out_prncp_inv' : Sisa pokok pinjaman dari investor\n",
    "- 'total_pymnt' : Total pembayaran yang telah diterima\n",
    "- 'total_pymnt_inv' : Total pembayaran dari investor yang telah diterima\n",
    "- 'total_rec_prncp' : Pokok pinjaman yang sudah diterima\n",
    "- 'total_rec_int' : Bunga yang sudah diterima\n",
    "- 'total_rec_late_fee' : Denda keterlambatan yang sudah diterima\n",
    "- 'recoveries' : Status apakah ada rencana pembayaran\n",
    "- 'collection_recovery_fee' : Biaya koleksi setelah pinjaman macet\n",
    "- 'last_pymnt_d' : Bulan terakhir pembayaran diterima\n",
    "- 'last_pymnt_amnt' : Jumlah pembayaran terakhir"
   ]
  },
  {
   "cell_type": "code",
   "execution_count": 35,
   "id": "8635271e",
   "metadata": {},
   "outputs": [],
   "source": [
    "leak_col = ['issue_d', 'loan_status', 'out_prncp', 'out_prncp_inv', 'total_pymnt', 'total_pymnt_inv',\n",
    "            'total_rec_prncp', 'total_rec_int', 'total_rec_late_fee', 'recoveries', 'collection_recovery_fee',\n",
    "            'last_pymnt_d', 'last_pymnt_amnt']"
   ]
  },
  {
   "cell_type": "markdown",
   "id": "4b24b2d7",
   "metadata": {},
   "source": [
    "Hapus fitur-fitur tersebut dari dataset:"
   ]
  },
  {
   "cell_type": "code",
   "execution_count": 36,
   "id": "428589ed",
   "metadata": {},
   "outputs": [],
   "source": [
    "new_df.drop(columns=leak_col, axis=1, inplace=True)"
   ]
  },
  {
   "cell_type": "markdown",
   "id": "10c7eeb0",
   "metadata": {},
   "source": [
    "Selain itu, kita juga hapus beberapa kolom lain yang tidak diperlukan:"
   ]
  },
  {
   "cell_type": "code",
   "execution_count": 37,
   "id": "3ee742d8",
   "metadata": {},
   "outputs": [],
   "source": [
    "new_df.drop(columns='sub_grade', axis=1, inplace=True)\n",
    "new_df.drop(columns='last_credit_pull_d', axis=1, inplace=True)"
   ]
  },
  {
   "cell_type": "markdown",
   "id": "f512b755",
   "metadata": {},
   "source": [
    "Ukuran data setelah penghapusan fitur-fitur tersebut:"
   ]
  },
  {
   "cell_type": "code",
   "execution_count": 38,
   "id": "84f0f56d",
   "metadata": {},
   "outputs": [
    {
     "data": {
      "text/plain": [
       "(238913, 26)"
      ]
     },
     "execution_count": 38,
     "metadata": {},
     "output_type": "execute_result"
    }
   ],
   "source": [
    "new_df.shape"
   ]
  },
  {
   "cell_type": "markdown",
   "id": "42b2d6c9",
   "metadata": {},
   "source": [
    "Dan daftar kolom terakhir:"
   ]
  },
  {
   "cell_type": "code",
   "execution_count": 39,
   "id": "ac6fa50e",
   "metadata": {},
   "outputs": [
    {
     "data": {
      "text/plain": [
       "Index(['loan_amnt', 'funded_amnt', 'funded_amnt_inv', 'term', 'int_rate',\n",
       "       'installment', 'grade', 'emp_length', 'home_ownership', 'annual_inc',\n",
       "       'verification_status', 'pymnt_plan', 'purpose', 'addr_state', 'dti',\n",
       "       'delinq_2yrs', 'inq_last_6mths', 'open_acc', 'pub_rec', 'revol_bal',\n",
       "       'revol_util', 'total_acc', 'initial_list_status',\n",
       "       'collections_12_mths_ex_med', 'acc_now_delinq', 'target'],\n",
       "      dtype='object')"
      ]
     },
     "execution_count": 39,
     "metadata": {},
     "output_type": "execute_result"
    }
   ],
   "source": [
    "new_df.columns"
   ]
  },
  {
   "cell_type": "markdown",
   "id": "39cc0db7",
   "metadata": {},
   "source": [
    "# Rekayasa Fitur (Feature Engineering)"
   ]
  },
  {
   "cell_type": "code",
   "execution_count": 40,
   "id": "5a9d346d",
   "metadata": {},
   "outputs": [
    {
     "data": {
      "text/html": [
       "<div>\n",
       "<style scoped>\n",
       "    .dataframe tbody tr th:only-of-type {\n",
       "        vertical-align: middle;\n",
       "    }\n",
       "\n",
       "    .dataframe tbody tr th {\n",
       "        vertical-align: top;\n",
       "    }\n",
       "\n",
       "    .dataframe thead th {\n",
       "        text-align: right;\n",
       "    }\n",
       "</style>\n",
       "<table border=\"1\" class=\"dataframe\">\n",
       "  <thead>\n",
       "    <tr style=\"text-align: right;\">\n",
       "      <th></th>\n",
       "      <th>term</th>\n",
       "      <th>grade</th>\n",
       "      <th>emp_length</th>\n",
       "      <th>home_ownership</th>\n",
       "      <th>verification_status</th>\n",
       "      <th>pymnt_plan</th>\n",
       "      <th>purpose</th>\n",
       "      <th>addr_state</th>\n",
       "      <th>initial_list_status</th>\n",
       "    </tr>\n",
       "  </thead>\n",
       "  <tbody>\n",
       "    <tr>\n",
       "      <th>0</th>\n",
       "      <td>36 months</td>\n",
       "      <td>B</td>\n",
       "      <td>10+ years</td>\n",
       "      <td>RENT</td>\n",
       "      <td>Verified</td>\n",
       "      <td>n</td>\n",
       "      <td>credit_card</td>\n",
       "      <td>AZ</td>\n",
       "      <td>f</td>\n",
       "    </tr>\n",
       "    <tr>\n",
       "      <th>1</th>\n",
       "      <td>60 months</td>\n",
       "      <td>C</td>\n",
       "      <td>&lt; 1 year</td>\n",
       "      <td>RENT</td>\n",
       "      <td>Source Verified</td>\n",
       "      <td>n</td>\n",
       "      <td>car</td>\n",
       "      <td>GA</td>\n",
       "      <td>f</td>\n",
       "    </tr>\n",
       "    <tr>\n",
       "      <th>2</th>\n",
       "      <td>36 months</td>\n",
       "      <td>C</td>\n",
       "      <td>10+ years</td>\n",
       "      <td>RENT</td>\n",
       "      <td>Not Verified</td>\n",
       "      <td>n</td>\n",
       "      <td>small_business</td>\n",
       "      <td>IL</td>\n",
       "      <td>f</td>\n",
       "    </tr>\n",
       "    <tr>\n",
       "      <th>3</th>\n",
       "      <td>36 months</td>\n",
       "      <td>C</td>\n",
       "      <td>10+ years</td>\n",
       "      <td>RENT</td>\n",
       "      <td>Source Verified</td>\n",
       "      <td>n</td>\n",
       "      <td>other</td>\n",
       "      <td>CA</td>\n",
       "      <td>f</td>\n",
       "    </tr>\n",
       "    <tr>\n",
       "      <th>5</th>\n",
       "      <td>36 months</td>\n",
       "      <td>A</td>\n",
       "      <td>3 years</td>\n",
       "      <td>RENT</td>\n",
       "      <td>Source Verified</td>\n",
       "      <td>n</td>\n",
       "      <td>wedding</td>\n",
       "      <td>AZ</td>\n",
       "      <td>f</td>\n",
       "    </tr>\n",
       "    <tr>\n",
       "      <th>...</th>\n",
       "      <td>...</td>\n",
       "      <td>...</td>\n",
       "      <td>...</td>\n",
       "      <td>...</td>\n",
       "      <td>...</td>\n",
       "      <td>...</td>\n",
       "      <td>...</td>\n",
       "      <td>...</td>\n",
       "      <td>...</td>\n",
       "    </tr>\n",
       "    <tr>\n",
       "      <th>466276</th>\n",
       "      <td>60 months</td>\n",
       "      <td>D</td>\n",
       "      <td>5 years</td>\n",
       "      <td>MORTGAGE</td>\n",
       "      <td>Verified</td>\n",
       "      <td>n</td>\n",
       "      <td>medical</td>\n",
       "      <td>MA</td>\n",
       "      <td>f</td>\n",
       "    </tr>\n",
       "    <tr>\n",
       "      <th>466277</th>\n",
       "      <td>36 months</td>\n",
       "      <td>A</td>\n",
       "      <td>3 years</td>\n",
       "      <td>RENT</td>\n",
       "      <td>Verified</td>\n",
       "      <td>n</td>\n",
       "      <td>debt_consolidation</td>\n",
       "      <td>MD</td>\n",
       "      <td>f</td>\n",
       "    </tr>\n",
       "    <tr>\n",
       "      <th>466278</th>\n",
       "      <td>36 months</td>\n",
       "      <td>D</td>\n",
       "      <td>10+ years</td>\n",
       "      <td>RENT</td>\n",
       "      <td>Source Verified</td>\n",
       "      <td>n</td>\n",
       "      <td>vacation</td>\n",
       "      <td>VA</td>\n",
       "      <td>f</td>\n",
       "    </tr>\n",
       "    <tr>\n",
       "      <th>466281</th>\n",
       "      <td>60 months</td>\n",
       "      <td>D</td>\n",
       "      <td>10+ years</td>\n",
       "      <td>MORTGAGE</td>\n",
       "      <td>Verified</td>\n",
       "      <td>n</td>\n",
       "      <td>debt_consolidation</td>\n",
       "      <td>TN</td>\n",
       "      <td>f</td>\n",
       "    </tr>\n",
       "    <tr>\n",
       "      <th>466283</th>\n",
       "      <td>36 months</td>\n",
       "      <td>A</td>\n",
       "      <td>3 years</td>\n",
       "      <td>OWN</td>\n",
       "      <td>Verified</td>\n",
       "      <td>n</td>\n",
       "      <td>credit_card</td>\n",
       "      <td>CA</td>\n",
       "      <td>w</td>\n",
       "    </tr>\n",
       "  </tbody>\n",
       "</table>\n",
       "<p>238913 rows × 9 columns</p>\n",
       "</div>"
      ],
      "text/plain": [
       "              term grade emp_length home_ownership verification_status  \\\n",
       "0        36 months     B  10+ years           RENT            Verified   \n",
       "1        60 months     C   < 1 year           RENT     Source Verified   \n",
       "2        36 months     C  10+ years           RENT        Not Verified   \n",
       "3        36 months     C  10+ years           RENT     Source Verified   \n",
       "5        36 months     A    3 years           RENT     Source Verified   \n",
       "...            ...   ...        ...            ...                 ...   \n",
       "466276   60 months     D    5 years       MORTGAGE            Verified   \n",
       "466277   36 months     A    3 years           RENT            Verified   \n",
       "466278   36 months     D  10+ years           RENT     Source Verified   \n",
       "466281   60 months     D  10+ years       MORTGAGE            Verified   \n",
       "466283   36 months     A    3 years            OWN            Verified   \n",
       "\n",
       "       pymnt_plan             purpose addr_state initial_list_status  \n",
       "0               n         credit_card         AZ                   f  \n",
       "1               n                 car         GA                   f  \n",
       "2               n      small_business         IL                   f  \n",
       "3               n               other         CA                   f  \n",
       "5               n             wedding         AZ                   f  \n",
       "...           ...                 ...        ...                 ...  \n",
       "466276          n             medical         MA                   f  \n",
       "466277          n  debt_consolidation         MD                   f  \n",
       "466278          n            vacation         VA                   f  \n",
       "466281          n  debt_consolidation         TN                   f  \n",
       "466283          n         credit_card         CA                   w  \n",
       "\n",
       "[238913 rows x 9 columns]"
      ]
     },
     "execution_count": 40,
     "metadata": {},
     "output_type": "execute_result"
    }
   ],
   "source": [
    "new_df.select_dtypes(include='object')"
   ]
  },
  {
   "cell_type": "markdown",
   "id": "58b21192",
   "metadata": {},
   "source": [
    "**Label Encoding**"
   ]
  },
  {
   "cell_type": "markdown",
   "id": "d330ab6e",
   "metadata": {},
   "source": [
    "Label encoding diterapkan pada fitur yang memiliki urutan atau tingkatan (ordinal), sehingga nilainya bisa diubah ke bentuk numerik yang mencerminkan peringkat."
   ]
  },
  {
   "cell_type": "markdown",
   "id": "e70a0ebf",
   "metadata": {},
   "source": [
    "1. Contoh pertama, kita lihat distribusi nilai pada kolom 'term':"
   ]
  },
  {
   "cell_type": "code",
   "execution_count": 41,
   "id": "8bd03841",
   "metadata": {},
   "outputs": [
    {
     "data": {
      "text/plain": [
       " 36 months    186469\n",
       " 60 months     52444\n",
       "Name: term, dtype: int64"
      ]
     },
     "execution_count": 41,
     "metadata": {},
     "output_type": "execute_result"
    }
   ],
   "source": [
    "new_df['term'].value_counts()"
   ]
  },
  {
   "cell_type": "markdown",
   "id": "2ad5a6aa",
   "metadata": {},
   "source": [
    "Langkah berikutnya adalah mengubah nilai string 'term' menjadi integer, dengan menghapus kata \" months\" dan mengkonversinya ke tipe int:"
   ]
  },
  {
   "cell_type": "code",
   "execution_count": 42,
   "id": "949e0810",
   "metadata": {},
   "outputs": [],
   "source": [
    "new_df['term'] = new_df['term'].str.replace(' months', '').astype(int)"
   ]
  },
  {
   "cell_type": "markdown",
   "id": "979faed5",
   "metadata": {},
   "source": [
    "2. Untuk kolom 'grade' yang menunjukkan kelas atau peringkat, kita cek jumlah setiap kategori:"
   ]
  },
  {
   "cell_type": "code",
   "execution_count": 43,
   "id": "562164ef",
   "metadata": {},
   "outputs": [
    {
     "data": {
      "text/plain": [
       "B    72239\n",
       "C    61042\n",
       "A    39500\n",
       "D    38715\n",
       "E    18086\n",
       "F     7348\n",
       "G     1983\n",
       "Name: grade, dtype: int64"
      ]
     },
     "execution_count": 43,
     "metadata": {},
     "output_type": "execute_result"
    }
   ],
   "source": [
    "new_df['grade'].value_counts()"
   ]
  },
  {
   "cell_type": "markdown",
   "id": "458b6075",
   "metadata": {},
   "source": [
    "Lalu kita lakukan mapping nilai huruf ke angka sesuai urutan grade dari terbaik ke terburuk:"
   ]
  },
  {
   "cell_type": "code",
   "execution_count": 44,
   "id": "929a2acf",
   "metadata": {},
   "outputs": [],
   "source": [
    "grade_new = {'A': 1, 'B': 2, 'C': 3, 'D': 4, 'E': 5, 'F': 6, 'G': 7}\n",
    "new_df['grade'] = new_df['grade'].map(grade_new)"
   ]
  },
  {
   "cell_type": "markdown",
   "id": "a5ca1e41",
   "metadata": {},
   "source": [
    "3. Selanjutnya, untuk kolom 'emp_length' (lama bekerja), kita lihat jumlah tiap kategori:"
   ]
  },
  {
   "cell_type": "code",
   "execution_count": 45,
   "id": "d6940de0",
   "metadata": {},
   "outputs": [
    {
     "data": {
      "text/plain": [
       "10+ years                                          71312\n",
       "2 years                                            22352\n",
       "< 1 year                                           19998\n",
       "3 years                                            19395\n",
       "5 years                                            17297\n",
       "1 year                                             16078\n",
       "4 years                                            15402\n",
       "6 years                                            14300\n",
       "7 years                                            13466\n",
       "8 years                                            11092\n",
       "0    10+ years\\nName: emp_length, dtype: object     9225\n",
       "9 years                                             8996\n",
       "Name: emp_length, dtype: int64"
      ]
     },
     "execution_count": 45,
     "metadata": {},
     "output_type": "execute_result"
    }
   ],
   "source": [
    "new_df['emp_length'].value_counts()"
   ]
  },
  {
   "cell_type": "markdown",
   "id": "509d336f",
   "metadata": {},
   "source": [
    "Output berupa data kategori lama kerja dengan berbagai rentang tahun. Kemudian kita buat mapping ke angka sesuai urutan lama kerja:"
   ]
  },
  {
   "cell_type": "code",
   "execution_count": 46,
   "id": "8489b54d",
   "metadata": {},
   "outputs": [],
   "source": [
    "empl_new = {'< 1 year': 0, '1 year': 1, '2 years': 2, '3 years': 3, '4 years': 4, \n",
    "            '5 years': 5, '6 years': 6, '7 years': 7, '8 years': 8, '9 years': 9, \n",
    "            '10+ years': 10, '0    10+ years\\ndtype: object': 10}\n",
    "new_df['emp_length'] = new_df['emp_length'].map(empl_new)"
   ]
  },
  {
   "cell_type": "markdown",
   "id": "9c5ee9d2",
   "metadata": {},
   "source": [
    "4. Untuk kolom 'home_ownership', kita lihat distribusi nilainya:"
   ]
  },
  {
   "cell_type": "code",
   "execution_count": 47,
   "id": "bc4c0038",
   "metadata": {},
   "outputs": [
    {
     "data": {
      "text/plain": [
       "MORTGAGE    117376\n",
       "RENT        101186\n",
       "OWN          20123\n",
       "OTHER          179\n",
       "NONE            48\n",
       "ANY              1\n",
       "Name: home_ownership, dtype: int64"
      ]
     },
     "execution_count": 47,
     "metadata": {},
     "output_type": "execute_result"
    }
   ],
   "source": [
    "new_df['home_ownership'].value_counts()"
   ]
  },
  {
   "cell_type": "markdown",
   "id": "cd7a15ed",
   "metadata": {},
   "source": [
    "Lalu kita samakan nilai 'NONE' dan 'ANY' menjadi 'OTHER' agar konsisten:"
   ]
  },
  {
   "cell_type": "code",
   "execution_count": 48,
   "id": "d25bcd78",
   "metadata": {},
   "outputs": [],
   "source": [
    "home_new = {'NONE': 'OTHER', 'ANY': 'OTHER'}\n",
    "new_df['home_ownership'] = new_df['home_ownership'].map(home_new)"
   ]
  },
  {
   "cell_type": "markdown",
   "id": "4f63ee08",
   "metadata": {},
   "source": [
    "5. Untuk fitur 'initial_list_status', yang berisi status awal daftar, kita ubah kategori huruf menjadi angka biner:"
   ]
  },
  {
   "cell_type": "code",
   "execution_count": 49,
   "id": "6f950e85",
   "metadata": {},
   "outputs": [
    {
     "data": {
      "text/plain": [
       "f    177714\n",
       "w     61199\n",
       "Name: initial_list_status, dtype: int64"
      ]
     },
     "execution_count": 49,
     "metadata": {},
     "output_type": "execute_result"
    }
   ],
   "source": [
    "new_df['initial_list_status'].value_counts()"
   ]
  },
  {
   "cell_type": "markdown",
   "id": "db9d7e9f",
   "metadata": {},
   "source": [
    "Lalu mapping:"
   ]
  },
  {
   "cell_type": "code",
   "execution_count": 50,
   "id": "509e6e2a",
   "metadata": {},
   "outputs": [],
   "source": [
    "init_new = {'f': 1, 'w': 0}\n",
    "new_df['initial_list_status'] = new_df['initial_list_status'].map(init_new)"
   ]
  },
  {
   "cell_type": "markdown",
   "id": "c91b3725",
   "metadata": {},
   "source": [
    "**One-hot Encoding**"
   ]
  },
  {
   "cell_type": "markdown",
   "id": "0659fbd5",
   "metadata": {},
   "source": [
    "One-hot encoding digunakan pada fitur kategorikal yang tidak memiliki urutan atau tingkatan tertentu sehingga tidak bisa di-label encode."
   ]
  },
  {
   "cell_type": "markdown",
   "id": "ff168972",
   "metadata": {},
   "source": [
    "Contoh fitur yang akan di-one-hot encode:"
   ]
  },
  {
   "cell_type": "code",
   "execution_count": 51,
   "id": "0815a122",
   "metadata": {},
   "outputs": [
    {
     "data": {
      "text/plain": [
       "array(['AZ', 'GA', 'IL', 'CA', 'TX', 'VA', 'MO', 'CT', 'UT', 'FL', 'NY',\n",
       "       'PA', 'MN', 'NJ', 'OR', 'KY', 'OH', 'SC', 'RI', 'LA', 'MA', 'WA',\n",
       "       'WI', 'AL', 'NV', 'AK', 'CO', 'MD', 'WV', 'VT', 'MI', 'DC', 'SD',\n",
       "       'NC', 'AR', 'NM', 'KS', 'HI', 'OK', 'MT', 'WY', 'NH', 'DE', 'MS',\n",
       "       'TN', 'IA', 'NE', 'ID', 'IN', 'ME'], dtype=object)"
      ]
     },
     "execution_count": 51,
     "metadata": {},
     "output_type": "execute_result"
    }
   ],
   "source": [
    "new_df['verification_status'].unique()\n",
    "new_df['purpose'].unique()\n",
    "new_df['addr_state'].unique()"
   ]
  },
  {
   "cell_type": "markdown",
   "id": "8e62055b",
   "metadata": {},
   "source": [
    "Untuk melakukan one-hot encoding pada fitur-fitur tersebut:"
   ]
  },
  {
   "cell_type": "code",
   "execution_count": 52,
   "id": "a08b0d9b",
   "metadata": {},
   "outputs": [],
   "source": [
    "onehot = ['verification_status', 'purpose', 'addr_state']\n",
    "dummy = pd.get_dummies(new_df[onehot])"
   ]
  },
  {
   "cell_type": "markdown",
   "id": "d09dbc50",
   "metadata": {},
   "source": [
    "**Seleksi Fitur berdasarkan Korelasi dengan Target**"
   ]
  },
  {
   "cell_type": "markdown",
   "id": "188050d2",
   "metadata": {},
   "source": [
    "Kita analisis korelasi fitur numerik terhadap target untuk memilih fitur-fitur yang paling berpengaruh secara positif dan negatif."
   ]
  },
  {
   "cell_type": "markdown",
   "id": "8e83868e",
   "metadata": {},
   "source": [
    "Fitur dengan korelasi negatif paling besar (top 5):"
   ]
  },
  {
   "cell_type": "code",
   "execution_count": 53,
   "id": "f0ca218c",
   "metadata": {},
   "outputs": [
    {
     "data": {
      "text/plain": [
       "int_rate     -0.255543\n",
       "grade        -0.250580\n",
       "term         -0.175030\n",
       "dti          -0.128055\n",
       "revol_util   -0.098346\n",
       "Name: target, dtype: float64"
      ]
     },
     "execution_count": 53,
     "metadata": {},
     "output_type": "execute_result"
    }
   ],
   "source": [
    "new_df.corr()['target'][:].sort_values(ascending=True).head(5)"
   ]
  },
  {
   "cell_type": "markdown",
   "id": "0f0b1b38",
   "metadata": {},
   "source": [
    "Fitur dengan korelasi positif paling besar (top 5)"
   ]
  },
  {
   "cell_type": "code",
   "execution_count": 54,
   "id": "32fba338",
   "metadata": {},
   "outputs": [
    {
     "data": {
      "text/plain": [
       "target                 1.000000\n",
       "annual_inc             0.060564\n",
       "initial_list_status    0.039365\n",
       "total_acc              0.021682\n",
       "revol_bal              0.001998\n",
       "Name: target, dtype: float64"
      ]
     },
     "execution_count": 54,
     "metadata": {},
     "output_type": "execute_result"
    }
   ],
   "source": [
    "new_df.corr()['target'][:].sort_values(ascending=False).head(5)"
   ]
  },
  {
   "cell_type": "markdown",
   "id": "56982c8d",
   "metadata": {},
   "source": [
    "Dari hasil korelasi, kita pilih kolom-kolom yang relevan:"
   ]
  },
  {
   "cell_type": "code",
   "execution_count": 55,
   "id": "99221c65",
   "metadata": {},
   "outputs": [],
   "source": [
    "cor_col = ['target', 'int_rate', 'grade', 'term', 'dti', 'revol_util', \n",
    "           'annual_inc', 'initial_list_status', 'total_acc', 'revol_bal']\n",
    "cor_df = new_df[cor_col].copy()"
   ]
  },
  {
   "cell_type": "markdown",
   "id": "0b730888",
   "metadata": {},
   "source": [
    "**Menggabungkan Data Korelasi dan One-hot Encoding**"
   ]
  },
  {
   "cell_type": "markdown",
   "id": "3e929b58",
   "metadata": {},
   "source": [
    "Gabungkan dataset fitur korelasi dengan hasil one-hot encoding:"
   ]
  },
  {
   "cell_type": "code",
   "execution_count": 56,
   "id": "66a9aba1",
   "metadata": {},
   "outputs": [
    {
     "data": {
      "text/plain": [
       "(238913, 77)"
      ]
     },
     "execution_count": 56,
     "metadata": {},
     "output_type": "execute_result"
    }
   ],
   "source": [
    "concat_df = pd.concat([cor_df, dummy], axis=1)\n",
    "concat_df.shape"
   ]
  },
  {
   "cell_type": "markdown",
   "id": "78fa782b",
   "metadata": {},
   "source": [
    "# Penanganan Ketidakseimbangan Kelas (Imbalance Handling)"
   ]
  },
  {
   "cell_type": "markdown",
   "id": "a9a81231",
   "metadata": {},
   "source": [
    "Pertama, mari kita lihat distribusi dari variabel target:"
   ]
  },
  {
   "cell_type": "code",
   "execution_count": 57,
   "id": "1b6fd927",
   "metadata": {},
   "outputs": [
    {
     "data": {
      "text/plain": [
       "1    186727\n",
       "0     52186\n",
       "Name: target, dtype: int64"
      ]
     },
     "execution_count": 57,
     "metadata": {},
     "output_type": "execute_result"
    }
   ],
   "source": [
    "concat_df['target'].value_counts()"
   ]
  },
  {
   "cell_type": "markdown",
   "id": "bb05c42f",
   "metadata": {},
   "source": [
    "Untuk mengetahui proporsinya:"
   ]
  },
  {
   "cell_type": "code",
   "execution_count": 58,
   "id": "829bef48",
   "metadata": {},
   "outputs": [
    {
     "data": {
      "text/plain": [
       "1    0.781569\n",
       "0    0.218431\n",
       "Name: target, dtype: float64"
      ]
     },
     "execution_count": 58,
     "metadata": {},
     "output_type": "execute_result"
    }
   ],
   "source": [
    "concat_df['target'].value_counts(normalize=True)"
   ]
  },
  {
   "cell_type": "markdown",
   "id": "ee0d5ad8",
   "metadata": {},
   "source": [
    "Terlihat jelas bahwa data sangat tidak seimbang, dengan mayoritas data adalah kelas 1 (good loan). Oleh karena itu, dilakukan dua pendekatan:\n",
    "- Oversampling terhadap kelas minoritas (bad loan / 0)\n",
    "- Undersampling terhadap kelas mayoritas (good loan / 1)"
   ]
  },
  {
   "cell_type": "code",
   "execution_count": 59,
   "id": "a867b0a8",
   "metadata": {},
   "outputs": [],
   "source": [
    "df_major = concat_df[(concat_df['target']==0)]  # data untuk kelas 0\n",
    "df_minor = concat_df[(concat_df['target']==1)]  # data untuk kelas 1\n",
    "\n",
    "# Membuat ulang data dengan oversampling dan undersampling agar seimbang\n",
    "df_minor_up = resample(df_minor, replace=True, n_samples=119456, random_state=42)\n",
    "df_major_down = resample(df_major, replace=True, n_samples=119456, random_state=42)\n",
    "\n",
    "# Menggabungkan kembali menjadi satu dataframe\n",
    "df_upsampled = pd.concat([df_minor_up, df_major_down])"
   ]
  },
  {
   "cell_type": "markdown",
   "id": "bb6e2d5c",
   "metadata": {},
   "source": [
    "Memastikan bahwa data sekarang sudah seimbang:"
   ]
  },
  {
   "cell_type": "code",
   "execution_count": 60,
   "id": "bb4472d2",
   "metadata": {},
   "outputs": [
    {
     "data": {
      "text/plain": [
       "1    0.5\n",
       "0    0.5\n",
       "Name: target, dtype: float64"
      ]
     },
     "execution_count": 60,
     "metadata": {},
     "output_type": "execute_result"
    }
   ],
   "source": [
    "df_upsampled['target'].value_counts(normalize=True)"
   ]
  },
  {
   "cell_type": "markdown",
   "id": "ec4eda9c",
   "metadata": {},
   "source": [
    "Struktur data hasil resampling:"
   ]
  },
  {
   "cell_type": "code",
   "execution_count": 61,
   "id": "bd107e0b",
   "metadata": {},
   "outputs": [
    {
     "data": {
      "text/html": [
       "<div>\n",
       "<style scoped>\n",
       "    .dataframe tbody tr th:only-of-type {\n",
       "        vertical-align: middle;\n",
       "    }\n",
       "\n",
       "    .dataframe tbody tr th {\n",
       "        vertical-align: top;\n",
       "    }\n",
       "\n",
       "    .dataframe thead th {\n",
       "        text-align: right;\n",
       "    }\n",
       "</style>\n",
       "<table border=\"1\" class=\"dataframe\">\n",
       "  <thead>\n",
       "    <tr style=\"text-align: right;\">\n",
       "      <th></th>\n",
       "      <th>target</th>\n",
       "      <th>int_rate</th>\n",
       "      <th>grade</th>\n",
       "      <th>term</th>\n",
       "      <th>dti</th>\n",
       "      <th>revol_util</th>\n",
       "      <th>annual_inc</th>\n",
       "      <th>initial_list_status</th>\n",
       "      <th>total_acc</th>\n",
       "      <th>revol_bal</th>\n",
       "      <th>...</th>\n",
       "      <th>addr_state_SD</th>\n",
       "      <th>addr_state_TN</th>\n",
       "      <th>addr_state_TX</th>\n",
       "      <th>addr_state_UT</th>\n",
       "      <th>addr_state_VA</th>\n",
       "      <th>addr_state_VT</th>\n",
       "      <th>addr_state_WA</th>\n",
       "      <th>addr_state_WI</th>\n",
       "      <th>addr_state_WV</th>\n",
       "      <th>addr_state_WY</th>\n",
       "    </tr>\n",
       "  </thead>\n",
       "  <tbody>\n",
       "    <tr>\n",
       "      <th>217852</th>\n",
       "      <td>1</td>\n",
       "      <td>10.74</td>\n",
       "      <td>2</td>\n",
       "      <td>36</td>\n",
       "      <td>19.85</td>\n",
       "      <td>33.6</td>\n",
       "      <td>22000.0</td>\n",
       "      <td>1</td>\n",
       "      <td>11.0</td>\n",
       "      <td>3358</td>\n",
       "      <td>...</td>\n",
       "      <td>0</td>\n",
       "      <td>0</td>\n",
       "      <td>1</td>\n",
       "      <td>0</td>\n",
       "      <td>0</td>\n",
       "      <td>0</td>\n",
       "      <td>0</td>\n",
       "      <td>0</td>\n",
       "      <td>0</td>\n",
       "      <td>0</td>\n",
       "    </tr>\n",
       "    <tr>\n",
       "      <th>316157</th>\n",
       "      <td>1</td>\n",
       "      <td>6.49</td>\n",
       "      <td>1</td>\n",
       "      <td>36</td>\n",
       "      <td>18.06</td>\n",
       "      <td>41.1</td>\n",
       "      <td>60000.0</td>\n",
       "      <td>0</td>\n",
       "      <td>25.0</td>\n",
       "      <td>11546</td>\n",
       "      <td>...</td>\n",
       "      <td>0</td>\n",
       "      <td>0</td>\n",
       "      <td>0</td>\n",
       "      <td>0</td>\n",
       "      <td>0</td>\n",
       "      <td>1</td>\n",
       "      <td>0</td>\n",
       "      <td>0</td>\n",
       "      <td>0</td>\n",
       "      <td>0</td>\n",
       "    </tr>\n",
       "    <tr>\n",
       "      <th>230539</th>\n",
       "      <td>1</td>\n",
       "      <td>14.27</td>\n",
       "      <td>3</td>\n",
       "      <td>60</td>\n",
       "      <td>18.74</td>\n",
       "      <td>95.0</td>\n",
       "      <td>88000.0</td>\n",
       "      <td>1</td>\n",
       "      <td>16.0</td>\n",
       "      <td>18998</td>\n",
       "      <td>...</td>\n",
       "      <td>0</td>\n",
       "      <td>0</td>\n",
       "      <td>0</td>\n",
       "      <td>0</td>\n",
       "      <td>0</td>\n",
       "      <td>0</td>\n",
       "      <td>0</td>\n",
       "      <td>0</td>\n",
       "      <td>0</td>\n",
       "      <td>0</td>\n",
       "    </tr>\n",
       "    <tr>\n",
       "      <th>194264</th>\n",
       "      <td>1</td>\n",
       "      <td>14.33</td>\n",
       "      <td>3</td>\n",
       "      <td>36</td>\n",
       "      <td>13.80</td>\n",
       "      <td>65.5</td>\n",
       "      <td>38000.0</td>\n",
       "      <td>1</td>\n",
       "      <td>9.0</td>\n",
       "      <td>9568</td>\n",
       "      <td>...</td>\n",
       "      <td>0</td>\n",
       "      <td>0</td>\n",
       "      <td>0</td>\n",
       "      <td>0</td>\n",
       "      <td>0</td>\n",
       "      <td>0</td>\n",
       "      <td>0</td>\n",
       "      <td>0</td>\n",
       "      <td>0</td>\n",
       "      <td>0</td>\n",
       "    </tr>\n",
       "    <tr>\n",
       "      <th>215135</th>\n",
       "      <td>1</td>\n",
       "      <td>6.62</td>\n",
       "      <td>1</td>\n",
       "      <td>36</td>\n",
       "      <td>4.23</td>\n",
       "      <td>20.4</td>\n",
       "      <td>125000.0</td>\n",
       "      <td>1</td>\n",
       "      <td>25.0</td>\n",
       "      <td>9010</td>\n",
       "      <td>...</td>\n",
       "      <td>0</td>\n",
       "      <td>0</td>\n",
       "      <td>0</td>\n",
       "      <td>0</td>\n",
       "      <td>0</td>\n",
       "      <td>0</td>\n",
       "      <td>0</td>\n",
       "      <td>0</td>\n",
       "      <td>0</td>\n",
       "      <td>0</td>\n",
       "    </tr>\n",
       "  </tbody>\n",
       "</table>\n",
       "<p>5 rows × 77 columns</p>\n",
       "</div>"
      ],
      "text/plain": [
       "        target  int_rate  grade  term    dti  revol_util  annual_inc  \\\n",
       "217852       1     10.74      2    36  19.85        33.6     22000.0   \n",
       "316157       1      6.49      1    36  18.06        41.1     60000.0   \n",
       "230539       1     14.27      3    60  18.74        95.0     88000.0   \n",
       "194264       1     14.33      3    36  13.80        65.5     38000.0   \n",
       "215135       1      6.62      1    36   4.23        20.4    125000.0   \n",
       "\n",
       "        initial_list_status  total_acc  revol_bal  ...  addr_state_SD  \\\n",
       "217852                    1       11.0       3358  ...              0   \n",
       "316157                    0       25.0      11546  ...              0   \n",
       "230539                    1       16.0      18998  ...              0   \n",
       "194264                    1        9.0       9568  ...              0   \n",
       "215135                    1       25.0       9010  ...              0   \n",
       "\n",
       "        addr_state_TN  addr_state_TX  addr_state_UT  addr_state_VA  \\\n",
       "217852              0              1              0              0   \n",
       "316157              0              0              0              0   \n",
       "230539              0              0              0              0   \n",
       "194264              0              0              0              0   \n",
       "215135              0              0              0              0   \n",
       "\n",
       "        addr_state_VT  addr_state_WA  addr_state_WI  addr_state_WV  \\\n",
       "217852              0              0              0              0   \n",
       "316157              1              0              0              0   \n",
       "230539              0              0              0              0   \n",
       "194264              0              0              0              0   \n",
       "215135              0              0              0              0   \n",
       "\n",
       "        addr_state_WY  \n",
       "217852              0  \n",
       "316157              0  \n",
       "230539              0  \n",
       "194264              0  \n",
       "215135              0  \n",
       "\n",
       "[5 rows x 77 columns]"
      ]
     },
     "execution_count": 61,
     "metadata": {},
     "output_type": "execute_result"
    }
   ],
   "source": [
    "df_upsampled.head()"
   ]
  },
  {
   "cell_type": "markdown",
   "id": "bfc91656",
   "metadata": {},
   "source": [
    "# Standardisasi Nilai (Standardization)"
   ]
  },
  {
   "cell_type": "markdown",
   "id": "66638524",
   "metadata": {},
   "source": [
    "Agar setiap fitur berada dalam skala yang seragam (umumnya dibutuhkan pada model berbasis jarak atau gradien), dilakukan standardisasi menggunakan StandardScaler dari sklearn."
   ]
  },
  {
   "cell_type": "markdown",
   "id": "cdab9bbd",
   "metadata": {},
   "source": [
    "Standardisasi dilakukan ke seluruh kolom, termasuk fitur hasil one-hot encoding."
   ]
  },
  {
   "cell_type": "code",
   "execution_count": 62,
   "id": "252eb484",
   "metadata": {},
   "outputs": [],
   "source": [
    "for i in df_upsampled.columns:\n",
    "  scale = StandardScaler().fit(df_upsampled[[i]])\n",
    "  df_upsampled[i] = scale.transform(df_upsampled[[i]])"
   ]
  },
  {
   "cell_type": "markdown",
   "id": "0dfdcd88",
   "metadata": {},
   "source": [
    "Setelah distandarisasi, kita bisa lihat kembali isi dataframe:"
   ]
  },
  {
   "cell_type": "code",
   "execution_count": 63,
   "id": "bbb0e49c",
   "metadata": {},
   "outputs": [
    {
     "data": {
      "text/html": [
       "<div>\n",
       "<style scoped>\n",
       "    .dataframe tbody tr th:only-of-type {\n",
       "        vertical-align: middle;\n",
       "    }\n",
       "\n",
       "    .dataframe tbody tr th {\n",
       "        vertical-align: top;\n",
       "    }\n",
       "\n",
       "    .dataframe thead th {\n",
       "        text-align: right;\n",
       "    }\n",
       "</style>\n",
       "<table border=\"1\" class=\"dataframe\">\n",
       "  <thead>\n",
       "    <tr style=\"text-align: right;\">\n",
       "      <th></th>\n",
       "      <th>target</th>\n",
       "      <th>int_rate</th>\n",
       "      <th>grade</th>\n",
       "      <th>term</th>\n",
       "      <th>dti</th>\n",
       "      <th>revol_util</th>\n",
       "      <th>annual_inc</th>\n",
       "      <th>initial_list_status</th>\n",
       "      <th>total_acc</th>\n",
       "      <th>revol_bal</th>\n",
       "      <th>...</th>\n",
       "      <th>addr_state_SD</th>\n",
       "      <th>addr_state_TN</th>\n",
       "      <th>addr_state_TX</th>\n",
       "      <th>addr_state_UT</th>\n",
       "      <th>addr_state_VA</th>\n",
       "      <th>addr_state_VT</th>\n",
       "      <th>addr_state_WA</th>\n",
       "      <th>addr_state_WI</th>\n",
       "      <th>addr_state_WV</th>\n",
       "      <th>addr_state_WY</th>\n",
       "    </tr>\n",
       "  </thead>\n",
       "  <tbody>\n",
       "    <tr>\n",
       "      <th>217852</th>\n",
       "      <td>1.0</td>\n",
       "      <td>-0.868912</td>\n",
       "      <td>-0.744832</td>\n",
       "      <td>-0.607742</td>\n",
       "      <td>0.350031</td>\n",
       "      <td>-0.951917</td>\n",
       "      <td>-0.899016</td>\n",
       "      <td>0.602514</td>\n",
       "      <td>-1.172083</td>\n",
       "      <td>-0.603726</td>\n",
       "      <td>...</td>\n",
       "      <td>-0.047375</td>\n",
       "      <td>-0.104831</td>\n",
       "      <td>3.556762</td>\n",
       "      <td>-0.089011</td>\n",
       "      <td>-0.181164</td>\n",
       "      <td>-0.039650</td>\n",
       "      <td>-0.152602</td>\n",
       "      <td>-0.110014</td>\n",
       "      <td>-0.06355</td>\n",
       "      <td>-0.044586</td>\n",
       "    </tr>\n",
       "    <tr>\n",
       "      <th>316157</th>\n",
       "      <td>1.0</td>\n",
       "      <td>-1.821496</td>\n",
       "      <td>-1.466816</td>\n",
       "      <td>-0.607742</td>\n",
       "      <td>0.121130</td>\n",
       "      <td>-0.642365</td>\n",
       "      <td>-0.180985</td>\n",
       "      <td>-1.659713</td>\n",
       "      <td>0.033477</td>\n",
       "      <td>-0.185334</td>\n",
       "      <td>...</td>\n",
       "      <td>-0.047375</td>\n",
       "      <td>-0.104831</td>\n",
       "      <td>-0.281155</td>\n",
       "      <td>-0.089011</td>\n",
       "      <td>-0.181164</td>\n",
       "      <td>25.220997</td>\n",
       "      <td>-0.152602</td>\n",
       "      <td>-0.110014</td>\n",
       "      <td>-0.06355</td>\n",
       "      <td>-0.044586</td>\n",
       "    </tr>\n",
       "    <tr>\n",
       "      <th>230539</th>\n",
       "      <td>1.0</td>\n",
       "      <td>-0.077708</td>\n",
       "      <td>-0.022849</td>\n",
       "      <td>1.645434</td>\n",
       "      <td>0.208087</td>\n",
       "      <td>1.582284</td>\n",
       "      <td>0.348090</td>\n",
       "      <td>0.602514</td>\n",
       "      <td>-0.741526</td>\n",
       "      <td>0.195450</td>\n",
       "      <td>...</td>\n",
       "      <td>-0.047375</td>\n",
       "      <td>-0.104831</td>\n",
       "      <td>-0.281155</td>\n",
       "      <td>-0.089011</td>\n",
       "      <td>-0.181164</td>\n",
       "      <td>-0.039650</td>\n",
       "      <td>-0.152602</td>\n",
       "      <td>-0.110014</td>\n",
       "      <td>-0.06355</td>\n",
       "      <td>-0.044586</td>\n",
       "    </tr>\n",
       "    <tr>\n",
       "      <th>194264</th>\n",
       "      <td>1.0</td>\n",
       "      <td>-0.064259</td>\n",
       "      <td>-0.022849</td>\n",
       "      <td>-0.607742</td>\n",
       "      <td>-0.423629</td>\n",
       "      <td>0.364712</td>\n",
       "      <td>-0.596687</td>\n",
       "      <td>0.602514</td>\n",
       "      <td>-1.344306</td>\n",
       "      <td>-0.286406</td>\n",
       "      <td>...</td>\n",
       "      <td>-0.047375</td>\n",
       "      <td>-0.104831</td>\n",
       "      <td>-0.281155</td>\n",
       "      <td>-0.089011</td>\n",
       "      <td>-0.181164</td>\n",
       "      <td>-0.039650</td>\n",
       "      <td>-0.152602</td>\n",
       "      <td>-0.110014</td>\n",
       "      <td>-0.06355</td>\n",
       "      <td>-0.044586</td>\n",
       "    </tr>\n",
       "    <tr>\n",
       "      <th>215135</th>\n",
       "      <td>1.0</td>\n",
       "      <td>-1.792358</td>\n",
       "      <td>-1.466816</td>\n",
       "      <td>-0.607742</td>\n",
       "      <td>-1.647418</td>\n",
       "      <td>-1.496729</td>\n",
       "      <td>1.047226</td>\n",
       "      <td>0.602514</td>\n",
       "      <td>0.033477</td>\n",
       "      <td>-0.314919</td>\n",
       "      <td>...</td>\n",
       "      <td>-0.047375</td>\n",
       "      <td>-0.104831</td>\n",
       "      <td>-0.281155</td>\n",
       "      <td>-0.089011</td>\n",
       "      <td>-0.181164</td>\n",
       "      <td>-0.039650</td>\n",
       "      <td>-0.152602</td>\n",
       "      <td>-0.110014</td>\n",
       "      <td>-0.06355</td>\n",
       "      <td>-0.044586</td>\n",
       "    </tr>\n",
       "  </tbody>\n",
       "</table>\n",
       "<p>5 rows × 77 columns</p>\n",
       "</div>"
      ],
      "text/plain": [
       "        target  int_rate     grade      term       dti  revol_util  \\\n",
       "217852     1.0 -0.868912 -0.744832 -0.607742  0.350031   -0.951917   \n",
       "316157     1.0 -1.821496 -1.466816 -0.607742  0.121130   -0.642365   \n",
       "230539     1.0 -0.077708 -0.022849  1.645434  0.208087    1.582284   \n",
       "194264     1.0 -0.064259 -0.022849 -0.607742 -0.423629    0.364712   \n",
       "215135     1.0 -1.792358 -1.466816 -0.607742 -1.647418   -1.496729   \n",
       "\n",
       "        annual_inc  initial_list_status  total_acc  revol_bal  ...  \\\n",
       "217852   -0.899016             0.602514  -1.172083  -0.603726  ...   \n",
       "316157   -0.180985            -1.659713   0.033477  -0.185334  ...   \n",
       "230539    0.348090             0.602514  -0.741526   0.195450  ...   \n",
       "194264   -0.596687             0.602514  -1.344306  -0.286406  ...   \n",
       "215135    1.047226             0.602514   0.033477  -0.314919  ...   \n",
       "\n",
       "        addr_state_SD  addr_state_TN  addr_state_TX  addr_state_UT  \\\n",
       "217852      -0.047375      -0.104831       3.556762      -0.089011   \n",
       "316157      -0.047375      -0.104831      -0.281155      -0.089011   \n",
       "230539      -0.047375      -0.104831      -0.281155      -0.089011   \n",
       "194264      -0.047375      -0.104831      -0.281155      -0.089011   \n",
       "215135      -0.047375      -0.104831      -0.281155      -0.089011   \n",
       "\n",
       "        addr_state_VA  addr_state_VT  addr_state_WA  addr_state_WI  \\\n",
       "217852      -0.181164      -0.039650      -0.152602      -0.110014   \n",
       "316157      -0.181164      25.220997      -0.152602      -0.110014   \n",
       "230539      -0.181164      -0.039650      -0.152602      -0.110014   \n",
       "194264      -0.181164      -0.039650      -0.152602      -0.110014   \n",
       "215135      -0.181164      -0.039650      -0.152602      -0.110014   \n",
       "\n",
       "        addr_state_WV  addr_state_WY  \n",
       "217852       -0.06355      -0.044586  \n",
       "316157       -0.06355      -0.044586  \n",
       "230539       -0.06355      -0.044586  \n",
       "194264       -0.06355      -0.044586  \n",
       "215135       -0.06355      -0.044586  \n",
       "\n",
       "[5 rows x 77 columns]"
      ]
     },
     "execution_count": 63,
     "metadata": {},
     "output_type": "execute_result"
    }
   ],
   "source": [
    "df_upsampled.head()"
   ]
  },
  {
   "cell_type": "markdown",
   "id": "99a23762",
   "metadata": {},
   "source": [
    "Nilai-nilai dalam dataset sekarang telah berubah ke bentuk standar (rata-rata = 0 dan standar deviasi = 1), baik untuk fitur numerik maupun yang sebelumnya dikonversi dari kategorikal."
   ]
  },
  {
   "cell_type": "markdown",
   "id": "aa67436e",
   "metadata": {},
   "source": [
    "# Pemodelan (Modeling)"
   ]
  },
  {
   "cell_type": "markdown",
   "id": "a889f623",
   "metadata": {},
   "source": [
    "Langkah awal dalam membangun model adalah memisahkan fitur (variabel input) dan target (label output). Target yang digunakan adalah kolom 'target', sedangkan fitur lainnya digunakan untuk melatih model."
   ]
  },
  {
   "cell_type": "code",
   "execution_count": 64,
   "id": "3c395772",
   "metadata": {},
   "outputs": [],
   "source": [
    "# Memisahkan data fitur dan label\n",
    "X = df_upsampled.drop('target', axis=1)  # variabel independen\n",
    "y = df_upsampled['target']               # variabel dependen (label)"
   ]
  },
  {
   "cell_type": "markdown",
   "id": "aa6104bd",
   "metadata": {},
   "source": [
    "Setelah itu, dilakukan pembagian data menjadi data latih (training) dan data uji (testing). Pembagian ini penting agar kita bisa menguji performa model terhadap data yang belum pernah dilihat sebelumnya."
   ]
  },
  {
   "cell_type": "code",
   "execution_count": 65,
   "id": "98eb30d1",
   "metadata": {},
   "outputs": [],
   "source": [
    "from sklearn.model_selection import train_test_split\n",
    "\n",
    "# Membagi data menjadi training dan testing set\n",
    "x_train, x_test, y_train, y_test = train_test_split(X, y, random_state=42)\n",
    "\n",
    "# Ubah semua -1.0 menjadi 0 agar kompatibel dengan semua model (terutama XGBoost)\n",
    "y_train = y_train.replace(-1.0, 0)\n",
    "y_test = y_test.replace(-1.0, 0)\n"
   ]
  },
  {
   "cell_type": "markdown",
   "id": "e1016b8f",
   "metadata": {},
   "source": [
    "Beberapa model machine learning yang akan digunakan untuk klasifikasi data ini antara lain:\n",
    "- Decision Tree Classifier\n",
    "- Random Forest Classifier\n",
    "- XGBoost Classifier\n",
    "- K-Nearest Neighbors (KNN)\n",
    "- Logistic Regression ← (ditambahkan sebagai model tambahan)\n",
    "\n",
    "Model-model ini dipilih karena masing-masing memiliki keunggulan tersendiri, mulai dari interpretabilitas (Decision Tree, Logistic Regression) hingga akurasi tinggi dan kestabilan (Random Forest, XGBoost)."
   ]
  },
  {
   "cell_type": "markdown",
   "id": "e5f05014",
   "metadata": {},
   "source": [
    "# Training Model dan Evaluasi"
   ]
  },
  {
   "cell_type": "markdown",
   "id": "63008735",
   "metadata": {},
   "source": [
    "Setelah data dipisahkan menjadi training set dan testing set, kita melatih beberapa algoritma klasifikasi dan mengevaluasi performanya. Evaluasi dilakukan menggunakan precision, recall, dan f1-score berdasarkan hasil prediksi pada data uji.\n",
    "\n"
   ]
  },
  {
   "cell_type": "markdown",
   "id": "86b52d35",
   "metadata": {},
   "source": [
    "**1. Decision Tree Classifier**"
   ]
  },
  {
   "cell_type": "markdown",
   "id": "06424a80",
   "metadata": {},
   "source": [
    "Model ini menggunakan struktur pohon keputusan untuk memetakan input ke target. Cocok digunakan untuk interpretasi yang mudah."
   ]
  },
  {
   "cell_type": "code",
   "execution_count": 66,
   "id": "93520702",
   "metadata": {},
   "outputs": [
    {
     "name": "stdout",
     "output_type": "stream",
     "text": [
      "              precision    recall  f1-score   support\n",
      "\n",
      "         0.0       0.81      0.90      0.86     29965\n",
      "         1.0       0.89      0.79      0.84     29763\n",
      "\n",
      "    accuracy                           0.85     59728\n",
      "   macro avg       0.85      0.85      0.85     59728\n",
      "weighted avg       0.85      0.85      0.85     59728\n",
      "\n"
     ]
    }
   ],
   "source": [
    "# Decision Tree Classifier\n",
    "dtree = DecisionTreeClassifier(random_state = 42)\n",
    "dtree = dtree.fit(x_train, y_train)\n",
    "y_pred = dtree.predict(x_test)\n",
    "print(classification_report(y_test, y_pred))"
   ]
  },
  {
   "cell_type": "markdown",
   "id": "19c888ad",
   "metadata": {},
   "source": [
    "**2. Random Forest Classifier**"
   ]
  },
  {
   "cell_type": "markdown",
   "id": "1987fb68",
   "metadata": {},
   "source": [
    "Merupakan ensemble method yang menggabungkan beberapa decision tree, meningkatkan akurasi dan mengurangi overfitting."
   ]
  },
  {
   "cell_type": "code",
   "execution_count": 67,
   "id": "b8d877a9",
   "metadata": {},
   "outputs": [
    {
     "name": "stdout",
     "output_type": "stream",
     "text": [
      "              precision    recall  f1-score   support\n",
      "\n",
      "         0.0       0.86      0.91      0.89     29965\n",
      "         1.0       0.90      0.85      0.88     29763\n",
      "\n",
      "    accuracy                           0.88     59728\n",
      "   macro avg       0.88      0.88      0.88     59728\n",
      "weighted avg       0.88      0.88      0.88     59728\n",
      "\n"
     ]
    }
   ],
   "source": [
    "# Random Forest Classifier\n",
    "randof = RandomForestClassifier(random_state = 42)\n",
    "randof.fit(x_train, y_train)\n",
    "y_pred = randof.predict(x_test)\n",
    "print(classification_report(y_test, y_pred))"
   ]
  },
  {
   "cell_type": "markdown",
   "id": "d801020c",
   "metadata": {},
   "source": [
    "Hasil Evaluasi:\n",
    "- Kinerja merata pada kedua kelas\n",
    "- Akurasi keseluruhan: 88% (tertinggi di antara model lain)"
   ]
  },
  {
   "cell_type": "markdown",
   "id": "b70e0b28",
   "metadata": {},
   "source": [
    "**3. XGBoost Classifier**"
   ]
  },
  {
   "cell_type": "markdown",
   "id": "59af82f8",
   "metadata": {},
   "source": [
    "Model boosting yang kuat dan sering digunakan untuk kompetisi machine learning. Meski kuat, ia sensitif terhadap skala dan data tidak seimbang"
   ]
  },
  {
   "cell_type": "code",
   "execution_count": 68,
   "id": "2dc44769",
   "metadata": {},
   "outputs": [
    {
     "name": "stdout",
     "output_type": "stream",
     "text": [
      "              precision    recall  f1-score   support\n",
      "\n",
      "         0.0       0.68      0.70      0.69     29965\n",
      "         1.0       0.69      0.67      0.68     29763\n",
      "\n",
      "    accuracy                           0.69     59728\n",
      "   macro avg       0.69      0.69      0.69     59728\n",
      "weighted avg       0.69      0.69      0.69     59728\n",
      "\n"
     ]
    }
   ],
   "source": [
    "#XGBoost\n",
    "xgb = XGBClassifier(random_state = 42)\n",
    "xgb.fit(x_train, y_train)\n",
    "y_pred = xgb.predict(x_test)\n",
    "print(classification_report(y_test, y_pred))"
   ]
  },
  {
   "cell_type": "markdown",
   "id": "8a5d728b",
   "metadata": {},
   "source": [
    "**4. K-Nearest Neighbors (KNN)**"
   ]
  },
  {
   "cell_type": "markdown",
   "id": "ee84d3a8",
   "metadata": {},
   "source": [
    "Model ini mengklasifikasikan berdasarkan kedekatan jarak dengan tetangga terdekat. Cenderung lambat jika dataset besar."
   ]
  },
  {
   "cell_type": "code",
   "execution_count": 69,
   "id": "e1109f1c",
   "metadata": {},
   "outputs": [
    {
     "name": "stdout",
     "output_type": "stream",
     "text": [
      "              precision    recall  f1-score   support\n",
      "\n",
      "         0.0       0.68      0.74      0.71     29965\n",
      "         1.0       0.72      0.65      0.68     29763\n",
      "\n",
      "    accuracy                           0.70     59728\n",
      "   macro avg       0.70      0.70      0.70     59728\n",
      "weighted avg       0.70      0.70      0.70     59728\n",
      "\n"
     ]
    }
   ],
   "source": [
    "# K-Nearest Neighbors\n",
    "knn = KNeighborsClassifier()\n",
    "knn.fit(x_train, y_train)\n",
    "y_pred = knn.predict(x_test)\n",
    "print(classification_report(y_test, y_pred))"
   ]
  },
  {
   "cell_type": "markdown",
   "id": "421acbba",
   "metadata": {},
   "source": [
    "**5. Logistic Regression**"
   ]
  },
  {
   "cell_type": "markdown",
   "id": "fc8dd4da",
   "metadata": {},
   "source": [
    "Model linier yang cocok untuk prediksi kelas biner. Sangat cepat dan sering digunakan sebagai baseline dalam klasifikasi."
   ]
  },
  {
   "cell_type": "code",
   "execution_count": 70,
   "id": "017d7f7a",
   "metadata": {},
   "outputs": [
    {
     "name": "stdout",
     "output_type": "stream",
     "text": [
      "              precision    recall  f1-score   support\n",
      "\n",
      "         0.0       0.65      0.64      0.64     29965\n",
      "         1.0       0.64      0.66      0.65     29763\n",
      "\n",
      "    accuracy                           0.65     59728\n",
      "   macro avg       0.65      0.65      0.65     59728\n",
      "weighted avg       0.65      0.65      0.65     59728\n",
      "\n"
     ]
    }
   ],
   "source": [
    "# Logistic Regression\n",
    "from sklearn.linear_model import LogisticRegression\n",
    "\n",
    "logreg = LogisticRegression(max_iter=1000, random_state=42)\n",
    "logreg.fit(x_train, y_train)\n",
    "y_pred = logreg.predict(x_test)\n",
    "print(classification_report(y_test, y_pred))\n"
   ]
  }
 ],
 "metadata": {
  "kernelspec": {
   "display_name": "Python 3 (ipykernel)",
   "language": "python",
   "name": "python3"
  },
  "language_info": {
   "codemirror_mode": {
    "name": "ipython",
    "version": 3
   },
   "file_extension": ".py",
   "mimetype": "text/x-python",
   "name": "python",
   "nbconvert_exporter": "python",
   "pygments_lexer": "ipython3",
   "version": "3.11.4"
  }
 },
 "nbformat": 4,
 "nbformat_minor": 5
}
